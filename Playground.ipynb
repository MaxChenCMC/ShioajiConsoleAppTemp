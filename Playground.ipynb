{
 "cells": [
  {
   "cell_type": "code",
   "execution_count": 2,
   "metadata": {
    "dotnet_interactive": {
     "language": "csharp"
    },
    "polyglot_notebook": {
     "kernelName": "csharp"
    }
   },
   "outputs": [
    {
     "data": {
      "text/html": [
       "<div><div></div><div></div><div><strong>Installed Packages</strong><ul><li><span>Shioaji, 1.1.8</span></li></ul></div></div>"
      ]
     },
     "metadata": {},
     "output_type": "display_data"
    }
   ],
   "source": [
    "#r \"nuget: Shioaji, 1.1.8\""
   ]
  },
  {
   "cell_type": "code",
   "execution_count": 4,
   "metadata": {
    "dotnet_interactive": {
     "language": "csharp"
    },
    "polyglot_notebook": {
     "kernelName": "csharp"
    }
   },
   "outputs": [
    {
     "name": "stdout",
     "output_type": "stream",
     "text": [
      "Connecting as shioaji@sinopac on 203.66.91.161:80...\r\n"
     ]
    }
   ],
   "source": [
    "using System.IO;\n",
    "using Sinopac.Shioaji;\n",
    "using System.Text.Json;\n",
    "Shioaji _api = new Shioaji();\n",
    "\n",
    "// string jsonString = File.ReadAllText(@\"D:\\Sinopac.json\");\n",
    "string jsonString = File.ReadAllText(@\"D:\\DotnetReactShioaji\\DotnetReactShioaji\\Sinopac.json\");\n",
    "JsonElement root = JsonDocument.Parse(jsonString).RootElement;\n",
    "_api.Login(root.GetProperty(\"API_Key\").GetString(), root.GetProperty(\"Secret_Key\").GetString());\n",
    "\n",
    "// var res = _api.Snapshots(new List<IContract>() {_api.Contracts.Futures[\"TXF\"][\"TXFR1\"]}) //若誤用[0]就導它無法在array裡搜，硬用linq就報錯"
   ]
  },
  {
   "cell_type": "code",
   "execution_count": 68,
   "metadata": {
    "dotnet_interactive": {
     "language": "csharp"
    },
    "polyglot_notebook": {
     "kernelName": "csharp"
    }
   },
   "outputs": [
    {
     "name": "stdout",
     "output_type": "stream",
     "text": [
      "6785,3548,2465,6805\r\n"
     ]
    },
    {
     "data": {
      "text/html": [
       "<table><thead><tr><th><i>index</i></th><th>value</th></tr></thead><tbody><tr><td>0</td><td><details class=\"dni-treeview\"><summary><span class=\"dni-code-hint\"><code>{\\ndate=2024-02-05, code=6805, name=富世達, ts=1707135115499000000, open=638, high=701, low=636, close=701, price_range=65, tick_type=1, change_price=63, change_type=1, average_price=673.15, volume=1, total_volume=2502, amount=701000, total_amount=1684213000, yesterday_volume=3068, volume_ratio=0.82, b...</code></span></summary><div><table><thead><tr></tr></thead><tbody><tr><td>date</td><td><div class=\"dni-plaintext\"><pre>2024-02-05</pre></div></td></tr><tr><td>code</td><td><div class=\"dni-plaintext\"><pre>6805</pre></div></td></tr><tr><td>name</td><td><div class=\"dni-plaintext\"><pre>富世達</pre></div></td></tr><tr><td>ts</td><td><div class=\"dni-plaintext\"><pre>1707135115499000000</pre></div></td></tr><tr><td>open</td><td><div class=\"dni-plaintext\"><pre>638</pre></div></td></tr><tr><td>high</td><td><div class=\"dni-plaintext\"><pre>701</pre></div></td></tr><tr><td>low</td><td><div class=\"dni-plaintext\"><pre>636</pre></div></td></tr><tr><td>close</td><td><div class=\"dni-plaintext\"><pre>701</pre></div></td></tr><tr><td>price_range</td><td><div class=\"dni-plaintext\"><pre>65</pre></div></td></tr><tr><td>tick_type</td><td><div class=\"dni-plaintext\"><pre>1</pre></div></td></tr><tr><td>change_price</td><td><div class=\"dni-plaintext\"><pre>63</pre></div></td></tr><tr><td>change_type</td><td><div class=\"dni-plaintext\"><pre>1</pre></div></td></tr><tr><td>average_price</td><td><div class=\"dni-plaintext\"><pre>673.15</pre></div></td></tr><tr><td>volume</td><td><div class=\"dni-plaintext\"><pre>1</pre></div></td></tr><tr><td>total_volume</td><td><div class=\"dni-plaintext\"><pre>2502</pre></div></td></tr><tr><td>amount</td><td><div class=\"dni-plaintext\"><pre>701000</pre></div></td></tr><tr><td>total_amount</td><td><div class=\"dni-plaintext\"><pre>1684213000</pre></div></td></tr><tr><td>yesterday_volume</td><td><div class=\"dni-plaintext\"><pre>3068</pre></div></td></tr><tr><td>volume_ratio</td><td><div class=\"dni-plaintext\"><pre>0.82</pre></div></td></tr><tr><td>buy_price</td><td><div class=\"dni-plaintext\"><pre>700</pre></div></td></tr><tr><td>buy_volume</td><td><div class=\"dni-plaintext\"><pre>6</pre></div></td></tr><tr><td>sell_price</td><td><div class=\"dni-plaintext\"><pre>701</pre></div></td></tr><tr><td>sell_volume</td><td><div class=\"dni-plaintext\"><pre>68</pre></div></td></tr><tr><td>bid_orders</td><td><div class=\"dni-plaintext\"><pre>835</pre></div></td></tr><tr><td>bid_volumes</td><td><div class=\"dni-plaintext\"><pre>44624</pre></div></td></tr><tr><td>ask_orders</td><td><div class=\"dni-plaintext\"><pre>536</pre></div></td></tr><tr><td>ask_volumes</td><td><div class=\"dni-plaintext\"><pre>2100</pre></div></td></tr><tr><td>rank_value</td><td><div class=\"dni-plaintext\"><pre>9.874</pre></div></td></tr></tbody></table></div></details></td></tr></tbody></table><style>\r\n",
       ".dni-code-hint {\r\n",
       "    font-style: italic;\r\n",
       "    overflow: hidden;\r\n",
       "    white-space: nowrap;\r\n",
       "}\r\n",
       ".dni-treeview {\r\n",
       "    white-space: nowrap;\r\n",
       "}\r\n",
       ".dni-treeview td {\r\n",
       "    vertical-align: top;\r\n",
       "    text-align: start;\r\n",
       "}\r\n",
       "details.dni-treeview {\r\n",
       "    padding-left: 1em;\r\n",
       "}\r\n",
       "table td {\r\n",
       "    text-align: start;\r\n",
       "}\r\n",
       "table tr { \r\n",
       "    vertical-align: top; \r\n",
       "    margin: 0em 0px;\r\n",
       "}\r\n",
       "table tr td pre \r\n",
       "{ \r\n",
       "    vertical-align: top !important; \r\n",
       "    margin: 0em 0px !important;\r\n",
       "} \r\n",
       "table th {\r\n",
       "    text-align: start;\r\n",
       "}\r\n",
       "</style>"
      ]
     },
     "metadata": {},
     "output_type": "display_data"
    }
   ],
   "source": [
    "var GetChangePercentRankCodes = _api.Scanners(scannerType: ScannerType.ChangePercentRank, date: \"2024-02-05\", count: 20)\n",
    "    .Where(x => x.close > 20 && x.total_amount > 500_000_000)\n",
    "    .Select(x => new {code = x.code, name = x.name, close = x.close, total_amount =  Math.Round((decimal)x.total_amount / 100_000_000, 2)})\n",
    "    .Select(x => (string)x.code)\n",
    "    .ToList();\n",
    "Console.WriteLine(string.Join(\",\", GetChangePercentRankCodes));\n",
    "\n",
    "_api.Scanners(scannerType: ScannerType.ChangePercentRank, date: \"2024-02-05\", count: 20)\n",
    ".Where(x => (string)x.GetType().GetProperty(\"code\").GetValue(x) == \"6805\")"
   ]
  },
  {
   "cell_type": "code",
   "execution_count": 64,
   "metadata": {
    "dotnet_interactive": {
     "language": "csharp"
    },
    "polyglot_notebook": {
     "kernelName": "csharp"
    }
   },
   "outputs": [
    {
     "data": {
      "text/html": [
       "<details class=\"dni-treeview\"><summary><span class=\"dni-code-hint\"><code>{&quot;Code&quot;:&quot;0050&quot;,&quot;Name&quot;:&quot;元大台灣50&quot;,&quot;ClosingPrice&quot;:&quot;135.10&quot;,&quot;MonthlyAveragePrice&quot;:&quot;134.72&quot;}</code></span></summary><div><table><thead><tr></tr></thead><tbody><tr><td>Code</td><td><span>&quot;0050&quot;</span></td></tr><tr><td>Name</td><td><span>&quot;元大台灣50&quot;</span></td></tr><tr><td>ClosingPrice</td><td><span>&quot;135.10&quot;</span></td></tr><tr><td>MonthlyAveragePrice</td><td><span>&quot;134.72&quot;</span></td></tr></tbody></table></div></details><style>\r\n",
       ".dni-code-hint {\r\n",
       "    font-style: italic;\r\n",
       "    overflow: hidden;\r\n",
       "    white-space: nowrap;\r\n",
       "}\r\n",
       ".dni-treeview {\r\n",
       "    white-space: nowrap;\r\n",
       "}\r\n",
       ".dni-treeview td {\r\n",
       "    vertical-align: top;\r\n",
       "    text-align: start;\r\n",
       "}\r\n",
       "details.dni-treeview {\r\n",
       "    padding-left: 1em;\r\n",
       "}\r\n",
       "table td {\r\n",
       "    text-align: start;\r\n",
       "}\r\n",
       "table tr { \r\n",
       "    vertical-align: top; \r\n",
       "    margin: 0em 0px;\r\n",
       "}\r\n",
       "table tr td pre \r\n",
       "{ \r\n",
       "    vertical-align: top !important; \r\n",
       "    margin: 0em 0px !important;\r\n",
       "} \r\n",
       "table th {\r\n",
       "    text-align: start;\r\n",
       "}\r\n",
       "</style>"
      ]
     },
     "metadata": {},
     "output_type": "display_data"
    }
   ],
   "source": [
    "using System.Net.Http;\n",
    "using System;\n",
    "using System.Collections.Generic;\n",
    "// using System.Text.Json;\n",
    "// using Newtonsoft.Json;\n",
    "\n",
    "try\n",
    "{\n",
    "    //\n",
    "}\n",
    "catch (Exception ex)\n",
    "{\n",
    "    Console.WriteLine($\"Failed {ex.Message}\");\n",
    "}\n",
    "\n",
    "var client = new HttpClient();\n",
    "var response = client.GetAsync(\"https://openapi.twse.com.tw/v1/exchangeReport/STOCK_DAY_AVG_ALL\").Result;\n",
    "var json = response.Content.ReadAsStringAsync().Result;\n",
    "var src = JsonSerializer.Deserialize<List<dynamic>>(json);\n",
    "src[0]"
   ]
  },
  {
   "cell_type": "code",
   "execution_count": 89,
   "metadata": {
    "dotnet_interactive": {
     "language": "csharp"
    },
    "polyglot_notebook": {
     "kernelName": "csharp"
    }
   },
   "outputs": [
    {
     "ename": "Error",
     "evalue": "Microsoft.CSharp.RuntimeBinder.RuntimeBinderException: 'System.Reflection.TypeInfo' does not contain a definition for 'IsAnonymousType'\r\n   at CallSite.Target(Closure, CallSite, Object)\r\n   at System.Dynamic.UpdateDelegates.UpdateAndExecute1[T0,TRet](CallSite site, T0 arg0)\r\n   at Submission#88.<>c.<<Initialize>>b__0_0(Object o)\r\n   at System.Linq.Enumerable.WhereListIterator`1.MoveNext()\r\n   at System.Linq.Enumerable.SelectIterator[TSource,TResult](IEnumerable`1 source, Func`3 selector)+MoveNext()\r\n   at Microsoft.DotNet.Interactive.Formatting.EnumerableExtensions.TakeAndCountRemaining[T](IEnumerable`1 source, Int32 count, Boolean forceCountRemainder) in D:\\a\\_work\\1\\s\\src\\Microsoft.DotNet.Interactive.Formatting\\EnumerableExtensions.cs:line 23\r\n   at Microsoft.DotNet.Interactive.Formatting.HtmlFormatter`1.<CreateTreeViewFormatterForAnyEnumerable>g__BuildTable|7_4(T source, FormatContext context, Func`2 getKeys, Func`2 getValues, Boolean summarize) in D:\\a\\_work\\1\\s\\src\\Microsoft.DotNet.Interactive.Formatting\\HtmlFormatter{T}.cs:line 94\r\n   at Microsoft.DotNet.Interactive.Formatting.HtmlFormatter`1.<>c__DisplayClass7_0.<CreateTreeViewFormatterForAnyEnumerable>b__3(T value, FormatContext context) in D:\\a\\_work\\1\\s\\src\\Microsoft.DotNet.Interactive.Formatting\\HtmlFormatter{T}.cs:line 85\r\n   at Microsoft.DotNet.Interactive.Formatting.HtmlFormatter`1.Format(T value, FormatContext context) in D:\\a\\_work\\1\\s\\src\\Microsoft.DotNet.Interactive.Formatting\\HtmlFormatter{T}.cs:line 54\r\n   at Microsoft.DotNet.Interactive.Formatting.HtmlFormatter`1.Format(T value, FormatContext context) in D:\\a\\_work\\1\\s\\src\\Microsoft.DotNet.Interactive.Formatting\\HtmlFormatter{T}.cs:line 54\r\n   at Microsoft.DotNet.Interactive.Formatting.Formatter`1.FormatTo(T obj, FormatContext context, String mimeType) in D:\\a\\_work\\1\\s\\src\\Microsoft.DotNet.Interactive.Formatting\\Formatter{T}.cs:line 68\r\n   at Microsoft.DotNet.Interactive.Formatting.Formatter.ToDisplayString(Object obj, String mimeType) in D:\\a\\_work\\1\\s\\src\\Microsoft.DotNet.Interactive.Formatting\\Formatter.cs:line 277\r\n   at Microsoft.DotNet.Interactive.FormattedValue.<>c__DisplayClass12_0.<CreateManyFromObject>b__0(String mimeType) in D:\\a\\_work\\1\\s\\src\\Microsoft.DotNet.Interactive\\FormattedValue.cs:line 49\r\n   at System.Linq.Enumerable.SelectArrayIterator`2.ToArray()\r\n   at Microsoft.DotNet.Interactive.CSharp.CSharpKernel.Microsoft.DotNet.Interactive.IKernelCommandHandler<Microsoft.DotNet.Interactive.Commands.SubmitCode>.HandleAsync(SubmitCode submitCode, KernelInvocationContext context)\r\n   at Microsoft.DotNet.Interactive.Kernel.HandleAsync(KernelCommand command, KernelInvocationContext context) in D:\\a\\_work\\1\\s\\src\\Microsoft.DotNet.Interactive\\Kernel.cs:line 330\r\n   at Microsoft.DotNet.Interactive.KernelCommandPipeline.<BuildPipeline>b__6_0(KernelCommand command, KernelInvocationContext context, KernelPipelineContinuation _) in D:\\a\\_work\\1\\s\\src\\Microsoft.DotNet.Interactive\\KernelCommandPipeline.cs:line 60\r\n   at Microsoft.DotNet.Interactive.KernelCommandPipeline.SendAsync(KernelCommand command, KernelInvocationContext context) in D:\\a\\_work\\1\\s\\src\\Microsoft.DotNet.Interactive\\KernelCommandPipeline.cs:line 41",
     "output_type": "error",
     "traceback": [
      "Microsoft.CSharp.RuntimeBinder.RuntimeBinderException: 'System.Reflection.TypeInfo' does not contain a definition for 'IsAnonymousType'\r\n",
      "   at CallSite.Target(Closure, CallSite, Object)\r\n",
      "   at System.Dynamic.UpdateDelegates.UpdateAndExecute1[T0,TRet](CallSite site, T0 arg0)\r\n",
      "   at Submission#88.<>c.<<Initialize>>b__0_0(Object o)\r\n",
      "   at System.Linq.Enumerable.WhereListIterator`1.MoveNext()\r\n",
      "   at System.Linq.Enumerable.SelectIterator[TSource,TResult](IEnumerable`1 source, Func`3 selector)+MoveNext()\r\n",
      "   at Microsoft.DotNet.Interactive.Formatting.EnumerableExtensions.TakeAndCountRemaining[T](IEnumerable`1 source, Int32 count, Boolean forceCountRemainder) in D:\\a\\_work\\1\\s\\src\\Microsoft.DotNet.Interactive.Formatting\\EnumerableExtensions.cs:line 23\r\n",
      "   at Microsoft.DotNet.Interactive.Formatting.HtmlFormatter`1.<CreateTreeViewFormatterForAnyEnumerable>g__BuildTable|7_4(T source, FormatContext context, Func`2 getKeys, Func`2 getValues, Boolean summarize) in D:\\a\\_work\\1\\s\\src\\Microsoft.DotNet.Interactive.Formatting\\HtmlFormatter{T}.cs:line 94\r\n",
      "   at Microsoft.DotNet.Interactive.Formatting.HtmlFormatter`1.<>c__DisplayClass7_0.<CreateTreeViewFormatterForAnyEnumerable>b__3(T value, FormatContext context) in D:\\a\\_work\\1\\s\\src\\Microsoft.DotNet.Interactive.Formatting\\HtmlFormatter{T}.cs:line 85\r\n",
      "   at Microsoft.DotNet.Interactive.Formatting.HtmlFormatter`1.Format(T value, FormatContext context) in D:\\a\\_work\\1\\s\\src\\Microsoft.DotNet.Interactive.Formatting\\HtmlFormatter{T}.cs:line 54\r\n",
      "   at Microsoft.DotNet.Interactive.Formatting.HtmlFormatter`1.Format(T value, FormatContext context) in D:\\a\\_work\\1\\s\\src\\Microsoft.DotNet.Interactive.Formatting\\HtmlFormatter{T}.cs:line 54\r\n",
      "   at Microsoft.DotNet.Interactive.Formatting.Formatter`1.FormatTo(T obj, FormatContext context, String mimeType) in D:\\a\\_work\\1\\s\\src\\Microsoft.DotNet.Interactive.Formatting\\Formatter{T}.cs:line 68\r\n",
      "   at Microsoft.DotNet.Interactive.Formatting.Formatter.ToDisplayString(Object obj, String mimeType) in D:\\a\\_work\\1\\s\\src\\Microsoft.DotNet.Interactive.Formatting\\Formatter.cs:line 277\r\n",
      "   at Microsoft.DotNet.Interactive.FormattedValue.<>c__DisplayClass12_0.<CreateManyFromObject>b__0(String mimeType) in D:\\a\\_work\\1\\s\\src\\Microsoft.DotNet.Interactive\\FormattedValue.cs:line 49\r\n",
      "   at System.Linq.Enumerable.SelectArrayIterator`2.ToArray()\r\n",
      "   at Microsoft.DotNet.Interactive.CSharp.CSharpKernel.Microsoft.DotNet.Interactive.IKernelCommandHandler<Microsoft.DotNet.Interactive.Commands.SubmitCode>.HandleAsync(SubmitCode submitCode, KernelInvocationContext context)\r\n",
      "   at Microsoft.DotNet.Interactive.Kernel.HandleAsync(KernelCommand command, KernelInvocationContext context) in D:\\a\\_work\\1\\s\\src\\Microsoft.DotNet.Interactive\\Kernel.cs:line 330\r\n",
      "   at Microsoft.DotNet.Interactive.KernelCommandPipeline.<BuildPipeline>b__6_0(KernelCommand command, KernelInvocationContext context, KernelPipelineContinuation _) in D:\\a\\_work\\1\\s\\src\\Microsoft.DotNet.Interactive\\KernelCommandPipeline.cs:line 60\r\n",
      "   at Microsoft.DotNet.Interactive.KernelCommandPipeline.SendAsync(KernelCommand command, KernelInvocationContext context) in D:\\a\\_work\\1\\s\\src\\Microsoft.DotNet.Interactive\\KernelCommandPipeline.cs:line 41"
     ]
    }
   ],
   "source": [
    "// src.Where( x => x.GetType().GetProperty(\"Code\").GetValue(x) == \"0050\")\n",
    "// src.IsAnonymousType()\n",
    "\n",
    "src.Where(o => o.GetType().IsAnonymousType())"
   ]
  },
  {
   "cell_type": "code",
   "execution_count": 35,
   "metadata": {
    "dotnet_interactive": {
     "language": "csharp"
    },
    "polyglot_notebook": {
     "kernelName": "csharp"
    }
   },
   "outputs": [
    {
     "ename": "Error",
     "evalue": "Microsoft.CSharp.RuntimeBinder.RuntimeBinderException: Cannot perform runtime binding on a null reference\r\n   at CallSite.Target(Closure, CallSite, Object, Object)\r\n   at System.Dynamic.UpdateDelegates.UpdateAndExecute2[T0,T1,TRet](CallSite site, T0 arg0, T1 arg1)\r\n   at Submission#34.<>c.<<Initialize>>b__0_0(Object x)\r\n   at System.Linq.Enumerable.WhereListIterator`1.MoveNext()\r\n   at System.Linq.Enumerable.SelectIterator[TSource,TResult](IEnumerable`1 source, Func`3 selector)+MoveNext()\r\n   at Microsoft.DotNet.Interactive.Formatting.EnumerableExtensions.TakeAndCountRemaining[T](IEnumerable`1 source, Int32 count, Boolean forceCountRemainder) in D:\\a\\_work\\1\\s\\src\\Microsoft.DotNet.Interactive.Formatting\\EnumerableExtensions.cs:line 23\r\n   at Microsoft.DotNet.Interactive.Formatting.HtmlFormatter`1.<CreateTreeViewFormatterForAnyEnumerable>g__BuildTable|7_4(T source, FormatContext context, Func`2 getKeys, Func`2 getValues, Boolean summarize) in D:\\a\\_work\\1\\s\\src\\Microsoft.DotNet.Interactive.Formatting\\HtmlFormatter{T}.cs:line 106\r\n   at Microsoft.DotNet.Interactive.Formatting.HtmlFormatter`1.<>c__DisplayClass7_0.<CreateTreeViewFormatterForAnyEnumerable>b__3(T value, FormatContext context) in D:\\a\\_work\\1\\s\\src\\Microsoft.DotNet.Interactive.Formatting\\HtmlFormatter{T}.cs:line 85\r\n   at Microsoft.DotNet.Interactive.Formatting.HtmlFormatter`1.Format(T value, FormatContext context) in D:\\a\\_work\\1\\s\\src\\Microsoft.DotNet.Interactive.Formatting\\HtmlFormatter{T}.cs:line 54\r\n   at Microsoft.DotNet.Interactive.Formatting.HtmlFormatter.<>c.<.cctor>b__0_14(Object value, FormatContext context) in D:\\a\\_work\\1\\s\\src\\Microsoft.DotNet.Interactive.Formatting\\HtmlFormatter.cs:line 225\r\n   at Microsoft.DotNet.Interactive.Formatting.HtmlFormatter`1.Format(T value, FormatContext context) in D:\\a\\_work\\1\\s\\src\\Microsoft.DotNet.Interactive.Formatting\\HtmlFormatter{T}.cs:line 54\r\n   at Microsoft.DotNet.Interactive.Formatting.Formatter`1.FormatTo(T obj, FormatContext context, String mimeType) in D:\\a\\_work\\1\\s\\src\\Microsoft.DotNet.Interactive.Formatting\\Formatter{T}.cs:line 68\r\n   at Microsoft.DotNet.Interactive.Formatting.Formatter.ToDisplayString(Object obj, String mimeType) in D:\\a\\_work\\1\\s\\src\\Microsoft.DotNet.Interactive.Formatting\\Formatter.cs:line 277\r\n   at Microsoft.DotNet.Interactive.FormattedValue.<>c__DisplayClass12_0.<CreateManyFromObject>b__0(String mimeType) in D:\\a\\_work\\1\\s\\src\\Microsoft.DotNet.Interactive\\FormattedValue.cs:line 49\r\n   at System.Linq.Enumerable.SelectArrayIterator`2.ToArray()\r\n   at Microsoft.DotNet.Interactive.FormattedValue.CreateManyFromObject(Object value, String[] mimeTypes) in D:\\a\\_work\\1\\s\\src\\Microsoft.DotNet.Interactive\\FormattedValue.cs:line 47\r\n   at Microsoft.DotNet.Interactive.CSharp.CSharpKernel.Microsoft.DotNet.Interactive.IKernelCommandHandler<Microsoft.DotNet.Interactive.Commands.SubmitCode>.HandleAsync(SubmitCode submitCode, KernelInvocationContext context) in D:\\a\\_work\\1\\s\\src\\Microsoft.DotNet.Interactive.CSharp\\CSharpKernel.cs:line 343\r\n   at Microsoft.DotNet.Interactive.Kernel.HandleAsync(KernelCommand command, KernelInvocationContext context) in D:\\a\\_work\\1\\s\\src\\Microsoft.DotNet.Interactive\\Kernel.cs:line 330\r\n   at Microsoft.DotNet.Interactive.KernelCommandPipeline.<BuildPipeline>b__6_0(KernelCommand command, KernelInvocationContext context, KernelPipelineContinuation _) in D:\\a\\_work\\1\\s\\src\\Microsoft.DotNet.Interactive\\KernelCommandPipeline.cs:line 60\r\n   at Microsoft.DotNet.Interactive.KernelCommandPipeline.SendAsync(KernelCommand command, KernelInvocationContext context) in D:\\a\\_work\\1\\s\\src\\Microsoft.DotNet.Interactive\\KernelCommandPipeline.cs:line 41",
     "output_type": "error",
     "traceback": [
      "Microsoft.CSharp.RuntimeBinder.RuntimeBinderException: Cannot perform runtime binding on a null reference\r\n",
      "   at CallSite.Target(Closure, CallSite, Object, Object)\r\n",
      "   at System.Dynamic.UpdateDelegates.UpdateAndExecute2[T0,T1,TRet](CallSite site, T0 arg0, T1 arg1)\r\n",
      "   at Submission#34.<>c.<<Initialize>>b__0_0(Object x)\r\n",
      "   at System.Linq.Enumerable.WhereListIterator`1.MoveNext()\r\n",
      "   at System.Linq.Enumerable.SelectIterator[TSource,TResult](IEnumerable`1 source, Func`3 selector)+MoveNext()\r\n",
      "   at Microsoft.DotNet.Interactive.Formatting.EnumerableExtensions.TakeAndCountRemaining[T](IEnumerable`1 source, Int32 count, Boolean forceCountRemainder) in D:\\a\\_work\\1\\s\\src\\Microsoft.DotNet.Interactive.Formatting\\EnumerableExtensions.cs:line 23\r\n",
      "   at Microsoft.DotNet.Interactive.Formatting.HtmlFormatter`1.<CreateTreeViewFormatterForAnyEnumerable>g__BuildTable|7_4(T source, FormatContext context, Func`2 getKeys, Func`2 getValues, Boolean summarize) in D:\\a\\_work\\1\\s\\src\\Microsoft.DotNet.Interactive.Formatting\\HtmlFormatter{T}.cs:line 106\r\n",
      "   at Microsoft.DotNet.Interactive.Formatting.HtmlFormatter`1.<>c__DisplayClass7_0.<CreateTreeViewFormatterForAnyEnumerable>b__3(T value, FormatContext context) in D:\\a\\_work\\1\\s\\src\\Microsoft.DotNet.Interactive.Formatting\\HtmlFormatter{T}.cs:line 85\r\n",
      "   at Microsoft.DotNet.Interactive.Formatting.HtmlFormatter`1.Format(T value, FormatContext context) in D:\\a\\_work\\1\\s\\src\\Microsoft.DotNet.Interactive.Formatting\\HtmlFormatter{T}.cs:line 54\r\n",
      "   at Microsoft.DotNet.Interactive.Formatting.HtmlFormatter.<>c.<.cctor>b__0_14(Object value, FormatContext context) in D:\\a\\_work\\1\\s\\src\\Microsoft.DotNet.Interactive.Formatting\\HtmlFormatter.cs:line 225\r\n",
      "   at Microsoft.DotNet.Interactive.Formatting.HtmlFormatter`1.Format(T value, FormatContext context) in D:\\a\\_work\\1\\s\\src\\Microsoft.DotNet.Interactive.Formatting\\HtmlFormatter{T}.cs:line 54\r\n",
      "   at Microsoft.DotNet.Interactive.Formatting.Formatter`1.FormatTo(T obj, FormatContext context, String mimeType) in D:\\a\\_work\\1\\s\\src\\Microsoft.DotNet.Interactive.Formatting\\Formatter{T}.cs:line 68\r\n",
      "   at Microsoft.DotNet.Interactive.Formatting.Formatter.ToDisplayString(Object obj, String mimeType) in D:\\a\\_work\\1\\s\\src\\Microsoft.DotNet.Interactive.Formatting\\Formatter.cs:line 277\r\n",
      "   at Microsoft.DotNet.Interactive.FormattedValue.<>c__DisplayClass12_0.<CreateManyFromObject>b__0(String mimeType) in D:\\a\\_work\\1\\s\\src\\Microsoft.DotNet.Interactive\\FormattedValue.cs:line 49\r\n",
      "   at System.Linq.Enumerable.SelectArrayIterator`2.ToArray()\r\n",
      "   at Microsoft.DotNet.Interactive.FormattedValue.CreateManyFromObject(Object value, String[] mimeTypes) in D:\\a\\_work\\1\\s\\src\\Microsoft.DotNet.Interactive\\FormattedValue.cs:line 47\r\n",
      "   at Microsoft.DotNet.Interactive.CSharp.CSharpKernel.Microsoft.DotNet.Interactive.IKernelCommandHandler<Microsoft.DotNet.Interactive.Commands.SubmitCode>.HandleAsync(SubmitCode submitCode, KernelInvocationContext context) in D:\\a\\_work\\1\\s\\src\\Microsoft.DotNet.Interactive.CSharp\\CSharpKernel.cs:line 343\r\n",
      "   at Microsoft.DotNet.Interactive.Kernel.HandleAsync(KernelCommand command, KernelInvocationContext context) in D:\\a\\_work\\1\\s\\src\\Microsoft.DotNet.Interactive\\Kernel.cs:line 330\r\n",
      "   at Microsoft.DotNet.Interactive.KernelCommandPipeline.<BuildPipeline>b__6_0(KernelCommand command, KernelInvocationContext context, KernelPipelineContinuation _) in D:\\a\\_work\\1\\s\\src\\Microsoft.DotNet.Interactive\\KernelCommandPipeline.cs:line 60\r\n",
      "   at Microsoft.DotNet.Interactive.KernelCommandPipeline.SendAsync(KernelCommand command, KernelInvocationContext context) in D:\\a\\_work\\1\\s\\src\\Microsoft.DotNet.Interactive\\KernelCommandPipeline.cs:line 41"
     ]
    }
   ],
   "source": [
    "// JsonDocument document = JsonDocument.Parse(src);\n",
    "// document\n",
    "\n",
    "// List<dynamic> src = JsonConvert.DeserializeObject<List<dynamic>>(json);\n",
    "// json\n",
    "src.Where( x => (string)x.GetType().GetProperty(\"Code\").GetValue(x) == \"0050\")//.Select( x => x.Code)\n",
    "    \n",
    "// src.Where(x => GetChangePercentRankCodes.Contains(\"3548\")).Select(x=>x.Code)\n",
    "// src.Where(x => x.Code == \"2330\")//.Select(x=>x.Code)"
   ]
  },
  {
   "cell_type": "code",
   "execution_count": null,
   "metadata": {
    "dotnet_interactive": {
     "language": "csharp"
    },
    "polyglot_notebook": {
     "kernelName": "csharp"
    }
   },
   "outputs": [],
   "source": [
    "using System.Threading;\n",
    "\n",
    "List<Sinopac.Shioaji.FuturePosition> _src = _api.ListPositions(_api.FutureAccount);\n",
    "var argStp = 10M;\n",
    "// 若要mxf 雙sell + BP才監控的話就可用 src.Count(x=x.code.Contains() && .....).Any()\n",
    "if(_src.Any(x => x.code.Contains(\"MXF\")))\n",
    "{\n",
    "    //無關痛癢寫點東西\n",
    "    Console.WriteLine($\"test{_src.Where(x => x.code.Contains(\"MXF\")).Select(x => x.pnl)}.\");\n",
    "\n",
    "    // 建容器存自執行以來的tick，檢查是否漏記錄，但若改用callback應該就會是準備不必特別記\n",
    "    // List<double> _temp = new List<double>();\n",
    "\n",
    "    //很蠢還在定時呼叫快照存close，用callback應該就會是準備不必特別記\n",
    "    // double spotClose = (double)_api.Snapshots(new List<IContract>() { _api.Contracts.Futures[\"TXF\"][\"TXFR1\"] })[0].close;\n",
    "    // _temp.Add(spotClose);\n",
    "    // _temp.Reverse();\n",
    "    // string result = string.Join(\", \", _temp.Take(10));\n",
    "    // Console.WriteLine($\"現在{spotClose}點 \\t 過去 10 ticks {result}\\n高點{_temp.Max()} since start\");\n",
    "    decimal argEntryPrice = _src.Where(x => x.code.Contains(\"MXF\")).Select(x => x.price).SingleOrDefault();\n",
    "    if (17950 >= argEntryPrice + argStp)\n",
    "    {\n",
    "        argEntryPrice += 2;\n",
    "        Console.WriteLine($\"已拉開故到{argEntryPrice}才會被掃出場\");\n",
    "        while (true)\n",
    "        {\n",
    "            spotClose = (double)_api.Snapshots(new List<IContract>() { _api.Contracts.Futures[\"TXF\"][\"TXFR1\"] })[0].close;\n",
    "            _temp.Add(spotClose);\n",
    "            if (spotClose <= (_temp.Max() - argStp))\n",
    "            {\n",
    "                string desc = spotClose >= argEntryPrice ? \"停利\" : \"保本\";\n",
    "                Console.WriteLine($\"★{desc}出在{spotClose}。\");\n",
    "                break;\n",
    "            }\n",
    "            else if (spotClose <= argEntryPrice)\n",
    "            {\n",
    "                Console.WriteLine($\"★保本出在{spotClose}。\");\n",
    "                break;\n",
    "            }\n",
    "            else\n",
    "            {\n",
    "                Console.WriteLine(spotClose);\n",
    "                Thread.Sleep(5_000);\n",
    "            }\n",
    "        }\n",
    "        break;\n",
    "    }\n",
    "    else if (spotClose <= argEntryPrice - argStp)\n",
    "    {\n",
    "        Console.WriteLine($\"★停損，出在{spotClose}。\");\n",
    "        break;\n",
    "    }\n",
    "    else Thread.Sleep(5_000);\n",
    "}"
   ]
  },
  {
   "cell_type": "markdown",
   "metadata": {},
   "source": [
    "# 這區是OK的別誤刪"
   ]
  },
  {
   "cell_type": "code",
   "execution_count": null,
   "metadata": {
    "dotnet_interactive": {
     "language": "csharp"
    },
    "polyglot_notebook": {
     "kernelName": "csharp"
    }
   },
   "outputs": [],
   "source": [
    "using System.Threading;\n",
    "\n",
    "public void MxfMock(double argEntryPrice, double argStp)\n",
    "{\n",
    "    List<double> _temp = new List<double>();\n",
    "    while (true)\n",
    "    {\n",
    "        double spotClose = (double)_api.Snapshots(new List<IContract>() { _api.Contracts.Futures[\"TXF\"][\"TXFR1\"] })[0].close;\n",
    "        _temp.Add(spotClose);\n",
    "        _temp.Reverse();\n",
    "        string result = string.Join(\", \", _temp.Take(10));\n",
    "        Console.WriteLine($\"現在{spotClose}點 \\t 過去 10 ticks {result}\\n高點{_temp.Max()} since start\");\n",
    "        if (spotClose >= argEntryPrice + argStp)\n",
    "        {\n",
    "            argEntryPrice += 2;\n",
    "            Console.WriteLine($\"已拉開故到{argEntryPrice}才會被掃出場\");\n",
    "            while (true)\n",
    "            {\n",
    "                spotClose = (double)_api.Snapshots(new List<IContract>() { _api.Contracts.Futures[\"TXF\"][\"TXFR1\"] })[0].close;\n",
    "                _temp.Add(spotClose);\n",
    "                if (spotClose <= (_temp.Max() - argStp))\n",
    "                {\n",
    "                    string desc = spotClose >= argEntryPrice ? \"停利\" : \"保本\";\n",
    "                    Console.WriteLine($\"★{desc}出在{spotClose}。\");\n",
    "                    break;\n",
    "                }\n",
    "                else if (spotClose <= argEntryPrice)\n",
    "                {\n",
    "                    Console.WriteLine($\"★保本出在{spotClose}。\");\n",
    "                    break;\n",
    "                }\n",
    "                else\n",
    "                {\n",
    "                    Console.WriteLine(spotClose);\n",
    "                    Thread.Sleep(5_000);\n",
    "                }\n",
    "            }\n",
    "            break;\n",
    "        }\n",
    "        else if (spotClose <= argEntryPrice - argStp)\n",
    "        {\n",
    "            Console.WriteLine($\"★停損，出在{spotClose}。\");\n",
    "            break;\n",
    "        }\n",
    "        else Thread.Sleep(5_000);\n",
    "    }\n",
    "    Console.WriteLine(\"★★小台積期：\" + _api.Snapshots(new List<IContract>() { _api.Contracts.Futures[\"QFF\"][\"QFFR1\"] })[0].close);\n",
    "}\n",
    "MxfMock(17950.0, 10.0)"
   ]
  }
 ],
 "metadata": {
  "kernelspec": {
   "display_name": ".NET (C#)",
   "language": "C#",
   "name": ".net-csharp"
  },
  "language_info": {
   "name": "polyglot-notebook"
  },
  "polyglot_notebook": {
   "kernelInfo": {
    "defaultKernelName": "csharp",
    "items": [
     {
      "aliases": [],
      "languageName": "csharp",
      "name": "csharp"
     }
    ]
   }
  }
 },
 "nbformat": 4,
 "nbformat_minor": 2
}
