{
 "cells": [
  {
   "cell_type": "code",
   "execution_count": null,
   "metadata": {
    "dotnet_interactive": {
     "language": "csharp"
    },
    "polyglot_notebook": {
     "kernelName": "csharp"
    }
   },
   "outputs": [],
   "source": [
    "#r \"nuget: Shioaji, 1.1.8\""
   ]
  },
  {
   "cell_type": "code",
   "execution_count": null,
   "metadata": {
    "dotnet_interactive": {
     "language": "csharp"
    },
    "polyglot_notebook": {
     "kernelName": "csharp"
    }
   },
   "outputs": [],
   "source": [
    "using System.IO;\n",
    "using Sinopac.Shioaji;\n",
    "using System.Text.Json;\n",
    "Shioaji _api = new Shioaji();\n",
    "\n",
    "string jsonString = File.ReadAllText(@\"D:\\Sinopac.json\");\n",
    "JsonElement root = JsonDocument.Parse(jsonString).RootElement;\n",
    "_api.Login(root.GetProperty(\"API_Key\").GetString(), root.GetProperty(\"Secret_Key\").GetString());\n",
    "\n",
    "// var res = _api.Snapshots(new List<IContract>() {_api.Contracts.Futures[\"TXF\"][\"TXFR1\"]}) //若誤用[0]就導它無法在array裡搜，硬用linq就報錯"
   ]
  },
  {
   "cell_type": "code",
   "execution_count": null,
   "metadata": {
    "dotnet_interactive": {
     "language": "csharp"
    },
    "polyglot_notebook": {
     "kernelName": "csharp"
    }
   },
   "outputs": [],
   "source": [
    "// struct basicData\n",
    "// {\n",
    "//     public string code;\n",
    "//     public string direction;\n",
    "//     public double entry_price;\n",
    "//     public double cover_price;\n",
    "//     public double pnl;\n",
    "// }\n",
    "\n",
    "public dynamic test()\n",
    "{\n",
    "    var src = _api.ListProfitLossSummary(\"2024-01-18\", \"2024-01-18\", _api.FutureAccount).profitloss_summary[0];\n",
    "    var productAnonymous = new\n",
    "    {\n",
    "        code = src.code,\n",
    "        direction = src.direction,\n",
    "        entry_price = src.entry_price,\n",
    "        cover_price = src.cover_price,\n",
    "        pnl = src.pnl\n",
    "    };\n",
    "    return productAnonymous;\n",
    "} \n",
    "\n",
    "test()"
   ]
  },
  {
   "cell_type": "code",
   "execution_count": null,
   "metadata": {
    "dotnet_interactive": {
     "language": "csharp"
    },
    "polyglot_notebook": {
     "kernelName": "csharp"
    }
   },
   "outputs": [],
   "source": [
    "// System.Collections.Generic.  List<Sinopac.Shioaji.FutureProfitLossSummary>\n",
    "// 匿名型別的變數有著direction, tax..屬性，而屬性被賦值的動作叫object initializer syntax\n",
    "List<FutureProfitLossSummary> a = _api.ListProfitLossSummary(\"2024-01-18\", \"2024-01-18\", _api.FutureAccount).profitloss_summary;\n",
    "foreach(var i in a)  Console.WriteLine(i);\n",
    "\n",
    "a\n",
    ".Where(x => x.direction == \"Buy\")\n",
    "// .Where(x => x.tax >= 0)\n",
    "// .Where(x => x.fee >= 0)\n",
    ".Where(x => x.code.Contains(\"TX4\"))\n",
    ".Where(x => x.quantity >= 1)\n",
    "// .Where(x => x.entry_price >= 0)\n",
    "// .Where(x => x.cover_price <= 999)\n",
    "// .Where(x => x.pnl >= 0)\n",
    "// .Select(x => x.tax)"
   ]
  },
  {
   "cell_type": "code",
   "execution_count": null,
   "metadata": {
    "dotnet_interactive": {
     "language": "csharp"
    },
    "polyglot_notebook": {
     "kernelName": "csharp"
    }
   },
   "outputs": [],
   "source": [
    "List<Sinopac.Shioaji.FuturePosition> _src = _api.ListPositions(_api.FutureAccount);\n",
    "var Pnl = _src.Where(x => x.code.Contains(\"MXF\")).Select(x => x.pnl).FirstOrDefault();\n",
    "var entry_price = _src.Where(x => x.code.Contains(\"MXF\")).Select(x => x.price).FirstOrDefault();\n",
    "decimal stpPt = entry_price - 25;"
   ]
  },
  {
   "cell_type": "code",
   "execution_count": null,
   "metadata": {
    "dotnet_interactive": {
     "language": "csharp"
    },
    "polyglot_notebook": {
     "kernelName": "csharp"
    }
   },
   "outputs": [],
   "source": [
    "List<Sinopac.Shioaji.FuturePosition> _src = _api.ListPositions(_api.FutureAccount);\n",
    "var Pnl = _src.Where(x => x.code.Contains(\"MXF\")).Select(x => x.pnl).FirstOrDefault();\n",
    "var entry_price = _src.Where(x => x.code.Contains(\"MXF\")).Select(x => x.price).FirstOrDefault();\n",
    "double stpPt = (double)entry_price - 25;\n",
    "double spot = _api.Snapshots(new List<IContract>() {_api.Contracts.Futures[\"TXF\"][\"TXFR1\"]})[0].close;\n",
    "\n",
    "List<double> _temp = new List<double>(); \n",
    "// 沒停損or沒收盤就迴圈\n",
    "while(true)\n",
    "{\n",
    "    List<Sinopac.Shioaji.FuturePosition> _src_ = _api.ListPositions(_api.FutureAccount);\n",
    "    if(_src_.Where(x => x.code.Contains(\"MXF\")).Select(x => x.pnl).FirstOrDefault() >= -1250  \n",
    "      ||  DateTime.Now > new DateTime(2024,1,25,5,0,0))\n",
    "    {\n",
    "        Console.WriteLine($\"現在{spot}點，未實現：{Pnl}\"); //監看若放成變數而變數沒持續更新，那迴圈就hang住了\n",
    "    }\n",
    "    else\n",
    "    {\n",
    "        //建容器一直存迄今高點, 若曾漲超過成本+12就把break條件設成保本\n",
    "        _temp.Add(spot);\n",
    "    }\n",
    "    if(_temp.Max() > (double)entry_price + 12) stpPt = (double)entry_price + 2 ;\n",
    "    if(spot < (double)stpPt) break;\n",
    "\n",
    "}\n",
    "Console.WriteLine($\"結束。現在{spot}點，mxf未實現：{Pnl} 預期該是0或empty但linq不曉得怎麼防呆\");\n",
    "Console.WriteLine(_api.Snapshots(new List<IContract>() {_api.Contracts.Futures[\"QFF\"][\"QFFR1\"]})[0].close);\n",
    "\n",
    "// int cnt = 0;\n",
    "// using System.Threading;\n",
    "// if(true)\n",
    "// {\n",
    "//     double spot = _api.Snapshots(new List<IContract>() {_api.Contracts.Futures[\"TXF\"][\"TXFR1\"]})[0].close;\n",
    "//     Console.WriteLine($\"現在台指期{spot}，倒數{5 - cnt}次就停止\");\n",
    "//     Thread.Sleep(3000);\n",
    "//     cnt += 1 ;\n",
    "//     // if(cnt >= 5) \n",
    "//     if(_api.Snapshots(new List<IContract>() {_api.Contracts.Futures[\"QFF\"][\"QFFR1\"]})[0].close <= 631\n",
    "//     || cnt >= 5\n",
    "//     )\n",
    "//     break;    \n",
    "// }"
   ]
  },
  {
   "cell_type": "code",
   "execution_count": null,
   "metadata": {
    "dotnet_interactive": {
     "language": "csharp"
    },
    "polyglot_notebook": {
     "kernelName": "csharp"
    }
   },
   "outputs": [],
   "source": [
    "// 1/16, 1/18, 1/24   entryprice若null就噴錯導致不能查多日\n",
    "// _api.ListProfitLossSummary(\"2024-01-18\", \"2024-01-18\", _api.FutureAccount)\n",
    "// _api.ListProfitLossSummary(\"2024-01-18\", \"2024-01-18\", _api.FutureAccount).profitloss_summary\n",
    "_api.ListProfitLossSummary(\"2024-01-18\", \"2024-01-18\", _api.FutureAccount).total"
   ]
  }
 ],
 "metadata": {
  "kernelspec": {
   "display_name": ".NET (C#)",
   "language": "C#",
   "name": ".net-csharp"
  },
  "language_info": {
   "name": "polyglot-notebook"
  },
  "polyglot_notebook": {
   "kernelInfo": {
    "defaultKernelName": "csharp",
    "items": [
     {
      "aliases": [],
      "languageName": "csharp",
      "name": "csharp"
     }
    ]
   }
  }
 },
 "nbformat": 4,
 "nbformat_minor": 2
}
