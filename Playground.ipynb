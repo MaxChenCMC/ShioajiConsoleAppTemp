{
 "cells": [
  {
   "cell_type": "code",
   "execution_count": 2,
   "metadata": {
    "dotnet_interactive": {
     "language": "csharp"
    },
    "polyglot_notebook": {
     "kernelName": "csharp"
    }
   },
   "outputs": [
    {
     "data": {
      "text/html": [
       "<div><div></div><div></div><div><strong>Installed Packages</strong><ul><li><span>Shioaji, 1.1.8</span></li></ul></div></div>"
      ]
     },
     "metadata": {},
     "output_type": "display_data"
    }
   ],
   "source": [
    "#r \"nuget: Shioaji, 1.1.8\""
   ]
  },
  {
   "cell_type": "code",
   "execution_count": 3,
   "metadata": {
    "dotnet_interactive": {
     "language": "csharp"
    },
    "polyglot_notebook": {
     "kernelName": "csharp"
    }
   },
   "outputs": [
    {
     "name": "stdout",
     "output_type": "stream",
     "text": [
      "Connecting as shioaji@sinopac on 210.59.255.161:80...\r\n"
     ]
    }
   ],
   "source": [
    "using System.IO;\n",
    "using Sinopac.Shioaji;\n",
    "using System.Text.Json;\n",
    "Shioaji _api = new Shioaji();\n",
    "\n",
    "string jsonString = File.ReadAllText(@\"D:\\DotnetReactShioaji\\DotnetReactShioaji\\Sinopac.json\");\n",
    "JsonElement root = JsonDocument.Parse(jsonString).RootElement;\n",
    "_api.Login(root.GetProperty(\"API_Key\").GetString(), root.GetProperty(\"Secret_Key\").GetString());\n",
    "\n",
    "// var res = _api.Snapshots(new List<IContract>() {_api.Contracts.Futures[\"TXF\"][\"TXFR1\"]}) //若誤用[0]就導它無法在array裡搜，硬用linq就報錯"
   ]
  },
  {
   "cell_type": "code",
   "execution_count": 73,
   "metadata": {
    "dotnet_interactive": {
     "language": "csharp"
    },
    "polyglot_notebook": {
     "kernelName": "csharp"
    }
   },
   "outputs": [
    {
     "data": {
      "text/plain": [
       "2454"
      ]
     },
     "metadata": {},
     "output_type": "display_data"
    }
   ],
   "source": [
    "// _api.Scanners(scannerType: ScannerType.AmountRank, date: argDate, count: 15).Select(x => x.code + \" \" + x.close + \" ↘\" )\n",
    "_src.Where(x => x.GetType().GetProperty(\"name\").GetValue(x) == \"聯發科\").Last().code"
   ]
  },
  {
   "cell_type": "code",
   "execution_count": 65,
   "metadata": {
    "dotnet_interactive": {
     "language": "csharp"
    },
    "polyglot_notebook": {
     "kernelName": "csharp"
    }
   },
   "outputs": [
    {
     "data": {
      "text/html": [
       "<table><thead><tr><th><i>index</i></th><th>value</th></tr></thead><tbody><tr><td>0</td><td><div class=\"dni-plaintext\"><pre>2330 621 ↘</pre></div></td></tr><tr><td>1</td><td><div class=\"dni-plaintext\"><pre>2454 927 ↘</pre></div></td></tr><tr><td>2</td><td><div class=\"dni-plaintext\"><pre>3017 457 ↘</pre></div></td></tr><tr><td>3</td><td><div class=\"dni-plaintext\"><pre>1519 477 ↘</pre></div></td></tr><tr><td>4</td><td><div class=\"dni-plaintext\"><pre>3443 1535 ↘</pre></div></td></tr></tbody></table><style>\r\n",
       ".dni-code-hint {\r\n",
       "    font-style: italic;\r\n",
       "    overflow: hidden;\r\n",
       "    white-space: nowrap;\r\n",
       "}\r\n",
       ".dni-treeview {\r\n",
       "    white-space: nowrap;\r\n",
       "}\r\n",
       ".dni-treeview td {\r\n",
       "    vertical-align: top;\r\n",
       "    text-align: start;\r\n",
       "}\r\n",
       "details.dni-treeview {\r\n",
       "    padding-left: 1em;\r\n",
       "}\r\n",
       "table td {\r\n",
       "    text-align: start;\r\n",
       "}\r\n",
       "table tr { \r\n",
       "    vertical-align: top; \r\n",
       "    margin: 0em 0px;\r\n",
       "}\r\n",
       "table tr td pre \r\n",
       "{ \r\n",
       "    vertical-align: top !important; \r\n",
       "    margin: 0em 0px !important;\r\n",
       "} \r\n",
       "table th {\r\n",
       "    text-align: start;\r\n",
       "}\r\n",
       "</style>"
      ]
     },
     "metadata": {},
     "output_type": "display_data"
    }
   ],
   "source": [
    "_api.Scanners(scannerType: ScannerType.AmountRank, date: argDate, count: 5).Select(x => x.code + \" \" + x.close + \" ↘\" )\n"
   ]
  },
  {
   "cell_type": "code",
   "execution_count": null,
   "metadata": {
    "dotnet_interactive": {
     "language": "csharp"
    },
    "polyglot_notebook": {
     "kernelName": "csharp"
    }
   },
   "outputs": [],
   "source": [
    "            #region 溫度計\n",
    "            public void Thermometer()\n",
    "            {\n",
    "                string argDate;\n",
    "                if (DateTime.Now.DayOfWeek.ToString() == \"Saturday\") argDate = DateTime.Now.AddDays(-1).ToString(\"yyyy-MM-dd\");\n",
    "                else if (DateTime.Now.DayOfWeek.ToString() == \"Sunday\") argDate = DateTime.Now.AddDays(-2).ToString(\"yyyy-MM-dd\");\n",
    "                else argDate = DateTime.Now.ToString(\"yyyy-MM-dd\");\n",
    "                List<string> tg = _api.Scanners(scannerType: ScannerType.AmountRank, date: argDate, count: 5).Select(x => (string)x.code).ToList();\n",
    "                foreach (string i in tg)\n",
    "                {\n",
    "                    _api.Subscribe(_api.Contracts.Stocks[\"TSE\"][i], QuoteType.tick, version: QuoteVersion.v1);\n",
    "                }\n",
    "                _api.SetQuoteCallback_v1(myQuoteCB_v2);\n",
    "            }\n",
    "\n",
    "            List<dynamic> _temp1 = new List<dynamic>();\n",
    "\n",
    "            private void myQuoteCB_v2(Exchange exchange, dynamic tick)\n",
    "            {\n",
    "                var rec = new\n",
    "                {\n",
    "                    code = tick.code,\n",
    "                    close = tick.close,\n",
    "                    tick_type = tick.tick_type,  // 1內、2外\n",
    "                    chg_type = tick.chg_type,    // 2漲、3平、4跌\n",
    "                };\n",
    "                _temp1.Add(rec);\n",
    "\n",
    "                //string top1 = _temp1.Where(x => (string)x.GetType().GetProperty(\"name\").GetValue(x) == \"聯發科\");\n",
    "                //string a = _temp1.Where(x => x.GetType().GetProperty(\"code\").GetValue(x) == \"2330\").Last().code;\n",
    "                //string a1 = (string)_temp1.Where(x => x.GetType().GetProperty(\"code\").GetValue(x) == \"2330\").Last().close;\n",
    "                //string result = string.Join(\", \", a, a1);\n",
    "                //Console.WriteLine(a,\"_\", a1);\n",
    "\n",
    "                var top1code = _temp1.Where(x => x.GetType().GetProperty(\"code\").GetValue(x) == \"2330\").Last().code;\n",
    "                var top1tick_type =   _temp1.Where(x => x.GetType().GetProperty(\"code\").GetValue(x) == \"2330\").Last().tick_type == 2 ? \"↗\":\"↙\";\n",
    "                var top1chg_type = _temp1.Where(x => x.GetType().GetProperty(\"code\").GetValue(x) == \"2330\").Last().chg_type == 2 ? \"↗\":\"↙\";\n",
    "                Console.WriteLine($\"{top1code}:{top1tick_type}:{top1chg_type}\");\n",
    "                //Console.WriteLine(top1close);\n",
    "            }\n",
    "            #endregion"
   ]
  },
  {
   "cell_type": "code",
   "execution_count": 14,
   "metadata": {
    "dotnet_interactive": {
     "language": "csharp"
    },
    "polyglot_notebook": {
     "kernelName": "csharp"
    }
   },
   "outputs": [
    {
     "name": "stdout",
     "output_type": "stream",
     "text": [
      "台積電\n",
      "102.02879\n",
      "聯發科\n",
      "87.58855\n",
      "奇鋐\n",
      "75.7639\n",
      "文曄\n",
      "51.284795\n",
      "華城\n",
      "48.20536\n",
      "創意\n",
      "39.52165\n",
      "芯鼎\n",
      "35.18036\n",
      "技嘉\n",
      "34.323235\n",
      "世芯-KY\n",
      "30.8782\n",
      "緯穎\n",
      "30.7654\n"
     ]
    }
   ],
   "source": [
    "string argDate;\n",
    "if (DateTime.Now.DayOfWeek.ToString() == \"Saturday\") argDate = DateTime.Now.AddDays(-1).ToString(\"yyyy-MM-dd\");\n",
    "else if (DateTime.Now.DayOfWeek.ToString() == \"Sunday\") argDate = DateTime.Now.AddDays(-2).ToString(\"yyyy-MM-dd\");\n",
    "else argDate = DateTime.Now.ToString(\"yyyy-MM-dd\");\n",
    "\n",
    "\n",
    "var _src = _api.Scanners(scannerType: ScannerType.AmountRank, date: argDate, count: 20);\n",
    "// _src.Where(x => (Decimal)x.GetType().GetProperty(\"entry_price\").GetValue(x) >= (Decimal)49.0)\n",
    "foreach(var i in _src.Take(10)){\n",
    "    Console.WriteLine(i.name);\n",
    "    Console.WriteLine(i.total_amount / 100_000_000d);\n",
    "}"
   ]
  },
  {
   "cell_type": "code",
   "execution_count": null,
   "metadata": {
    "dotnet_interactive": {
     "language": "csharp"
    },
    "polyglot_notebook": {
     "kernelName": "csharp"
    }
   },
   "outputs": [],
   "source": [
    "foreach(var i in _src.TakeLast(10)){\n",
    "    Console.WriteLine(i.name);\n",
    "    Console.WriteLine(i.total_amount / 100_000_000d);\n",
    "}"
   ]
  },
  {
   "cell_type": "code",
   "execution_count": 41,
   "metadata": {
    "dotnet_interactive": {
     "language": "csharp"
    },
    "polyglot_notebook": {
     "kernelName": "csharp"
    }
   },
   "outputs": [
    {
     "data": {
      "text/html": [
       "<table><thead><tr><th><i>index</i></th><th>value</th></tr></thead><tbody><tr><td>0</td><td><div class=\"dni-plaintext\"><pre>2330</pre></div></td></tr><tr><td>1</td><td><div class=\"dni-plaintext\"><pre>2454</pre></div></td></tr><tr><td>2</td><td><div class=\"dni-plaintext\"><pre>3017</pre></div></td></tr><tr><td>3</td><td><div class=\"dni-plaintext\"><pre>3036</pre></div></td></tr><tr><td>4</td><td><div class=\"dni-plaintext\"><pre>1519</pre></div></td></tr><tr><td>5</td><td><div class=\"dni-plaintext\"><pre>3443</pre></div></td></tr><tr><td>6</td><td><div class=\"dni-plaintext\"><pre>6695</pre></div></td></tr><tr><td>7</td><td><div class=\"dni-plaintext\"><pre>2376</pre></div></td></tr><tr><td>8</td><td><div class=\"dni-plaintext\"><pre>3661</pre></div></td></tr><tr><td>9</td><td><div class=\"dni-plaintext\"><pre>6669</pre></div></td></tr><tr><td>10</td><td><div class=\"dni-plaintext\"><pre>2603</pre></div></td></tr><tr><td>11</td><td><div class=\"dni-plaintext\"><pre>8936</pre></div></td></tr><tr><td>12</td><td><div class=\"dni-plaintext\"><pre>3035</pre></div></td></tr><tr><td>13</td><td><div class=\"dni-plaintext\"><pre>2421</pre></div></td></tr><tr><td>14</td><td><div class=\"dni-plaintext\"><pre>2382</pre></div></td></tr><tr><td>15</td><td><div class=\"dni-plaintext\"><pre>3231</pre></div></td></tr><tr><td>16</td><td><div class=\"dni-plaintext\"><pre>3324</pre></div></td></tr><tr><td>17</td><td><div class=\"dni-plaintext\"><pre>3548</pre></div></td></tr><tr><td>18</td><td><div class=\"dni-plaintext\"><pre>3376</pre></div></td></tr><tr><td>19</td><td><div class=\"dni-plaintext\"><pre>4908</pre></div></td></tr><tr><td colspan=\"2\"><i>... (more)</i></td></tr></tbody></table><style>\r\n",
       ".dni-code-hint {\r\n",
       "    font-style: italic;\r\n",
       "    overflow: hidden;\r\n",
       "    white-space: nowrap;\r\n",
       "}\r\n",
       ".dni-treeview {\r\n",
       "    white-space: nowrap;\r\n",
       "}\r\n",
       ".dni-treeview td {\r\n",
       "    vertical-align: top;\r\n",
       "    text-align: start;\r\n",
       "}\r\n",
       "details.dni-treeview {\r\n",
       "    padding-left: 1em;\r\n",
       "}\r\n",
       "table td {\r\n",
       "    text-align: start;\r\n",
       "}\r\n",
       "table tr { \r\n",
       "    vertical-align: top; \r\n",
       "    margin: 0em 0px;\r\n",
       "}\r\n",
       "table tr td pre \r\n",
       "{ \r\n",
       "    vertical-align: top !important; \r\n",
       "    margin: 0em 0px !important;\r\n",
       "} \r\n",
       "table th {\r\n",
       "    text-align: start;\r\n",
       "}\r\n",
       "</style>"
      ]
     },
     "metadata": {},
     "output_type": "display_data"
    }
   ],
   "source": [
    "// _src.Where(x => (string)x.GetType().GetProperty(\"name\").GetValue(x) == \"聯發科\")\n",
    "_src.Select(x=>x.code)"
   ]
  },
  {
   "cell_type": "code",
   "execution_count": 27,
   "metadata": {
    "dotnet_interactive": {
     "language": "csharp"
    },
    "polyglot_notebook": {
     "kernelName": "csharp"
    }
   },
   "outputs": [
    {
     "data": {
      "text/html": [
       "<div class=\"dni-plaintext\"><pre>99.0</pre></div><style>\r\n",
       ".dni-code-hint {\r\n",
       "    font-style: italic;\r\n",
       "    overflow: hidden;\r\n",
       "    white-space: nowrap;\r\n",
       "}\r\n",
       ".dni-treeview {\r\n",
       "    white-space: nowrap;\r\n",
       "}\r\n",
       ".dni-treeview td {\r\n",
       "    vertical-align: top;\r\n",
       "    text-align: start;\r\n",
       "}\r\n",
       "details.dni-treeview {\r\n",
       "    padding-left: 1em;\r\n",
       "}\r\n",
       "table td {\r\n",
       "    text-align: start;\r\n",
       "}\r\n",
       "table tr { \r\n",
       "    vertical-align: top; \r\n",
       "    margin: 0em 0px;\r\n",
       "}\r\n",
       "table tr td pre \r\n",
       "{ \r\n",
       "    vertical-align: top !important; \r\n",
       "    margin: 0em 0px !important;\r\n",
       "} \r\n",
       "table th {\r\n",
       "    text-align: start;\r\n",
       "}\r\n",
       "</style>"
      ]
     },
     "metadata": {},
     "output_type": "display_data"
    }
   ],
   "source": [
    "public dynamic anonListProfitLossSummary(string bgn, string end)\n",
    "{\n",
    "    var src = _api.ListProfitLossSummary(bgn, end, _api.FutureAccount).profitloss_summary[0];\n",
    "    var productAnonymous = new\n",
    "    {\n",
    "        code1 = (src.code.Substring(3, 5)) + (src.code[8] < 'L' ? \"Call\" : \"Put\"),\n",
    "        direction = src.direction,\n",
    "        entry_price = src.entry_price,\n",
    "        cover_price = src.cover_price,\n",
    "        netPnl = src.pnl - src.fee - src.tax\n",
    "    };\n",
    "    return productAnonymous;\n",
    "}\n",
    "\n",
    "List<object> _temp = new List<object>();\n",
    "_temp.Add(anonListProfitLossSummary(\"2024-01-10\", \"2024-01-10\"));\n",
    "_temp.Add(anonListProfitLossSummary(\"2024-01-18\", \"2024-01-18\"));\n",
    "_temp.Add(anonListProfitLossSummary(\"2024-01-31\", \"2024-01-31\"));\n",
    "// _temp.Where(x => (Decimal)x.GetType().GetProperty(\"entry_price\").GetValue(x) >= (Decimal)49.0)\n",
    "_temp.Max(x => (Decimal)x.GetType().GetProperty(\"entry_price\").GetValue(x))"
   ]
  },
  {
   "cell_type": "code",
   "execution_count": null,
   "metadata": {
    "dotnet_interactive": {
     "language": "csharp"
    },
    "polyglot_notebook": {
     "kernelName": "csharp"
    }
   },
   "outputs": [],
   "source": [
    "// System.Collections.Generic.  List<Sinopac.Shioaji.FutureProfitLossSummary>\n",
    "// 匿名型別的變數有著direction, tax..屬性，而屬性被賦值的動作叫object initializer syntax\n",
    "List<FutureProfitLossSummary> a = _api.ListProfitLossSummary(\"2024-01-18\", \"2024-01-31\", _api.FutureAccount).profitloss_summary;\n",
    "foreach(var i in a)  Console.WriteLine(i);"
   ]
  },
  {
   "cell_type": "code",
   "execution_count": null,
   "metadata": {
    "dotnet_interactive": {
     "language": "csharp"
    },
    "polyglot_notebook": {
     "kernelName": "csharp"
    }
   },
   "outputs": [],
   "source": [
    "List<Sinopac.Shioaji.FuturePosition> _src = _api.ListPositions(_api.FutureAccount);  //允許多筆故idx 0會報錯\n",
    "var direction = _src.Where(x => x.code.Contains(\"TX5\")).Select(x => x.direction).FirstOrDefault();\n",
    "var entry_price = _src.Where(x => x.code.Contains(\"TX5\")).Select(x => x.price).FirstOrDefault();\n",
    "var last_price = _src.Where(x => x.code.Contains(\"TX5\")).Select(x => x.last_price).FirstOrDefault();\n",
    "var Pnl = _src.Where(x => x.code.Contains(\"TX5\")).Select(x => x.pnl).FirstOrDefault();\n",
    "Pnl"
   ]
  },
  {
   "cell_type": "code",
   "execution_count": null,
   "metadata": {
    "dotnet_interactive": {
     "language": "csharp"
    },
    "polyglot_notebook": {
     "kernelName": "csharp"
    }
   },
   "outputs": [],
   "source": [
    "using System.Threading;\n",
    "\n",
    "public void MxfMock(double argEntryPrice, double argStp)\n",
    "{\n",
    "    List<double> _temp = new List<double>();\n",
    "    while (true)\n",
    "    {\n",
    "        double spotClose = (double)_api.Snapshots(new List<IContract>() { _api.Contracts.Futures[\"TXF\"][\"TXFR1\"] })[0].close;\n",
    "        _temp.Add(spotClose);\n",
    "        _temp.Reverse();\n",
    "        string result = string.Join(\", \", _temp.Take(10));\n",
    "        Console.WriteLine($\"現在{spotClose}點 \\t 過去 10 ticks {result}\\n高點{_temp.Max()} since start\");\n",
    "        if (spotClose >= argEntryPrice + argStp)\n",
    "        {\n",
    "            argEntryPrice += 2;\n",
    "            Console.WriteLine($\"已拉開故到{argEntryPrice}才會被掃出場\");\n",
    "            while (true)\n",
    "            {\n",
    "                spotClose = (double)_api.Snapshots(new List<IContract>() { _api.Contracts.Futures[\"TXF\"][\"TXFR1\"] })[0].close;\n",
    "                _temp.Add(spotClose);\n",
    "                if (spotClose <= (_temp.Max() - argStp))\n",
    "                {\n",
    "                    string desc = spotClose >= argEntryPrice ? \"停利\" : \"保本\";\n",
    "                    Console.WriteLine($\"★{desc}出在{spotClose}。\");\n",
    "                    break;\n",
    "                }\n",
    "                else if (spotClose <= argEntryPrice)\n",
    "                {\n",
    "                    Console.WriteLine($\"★保本出在{spotClose}。\");\n",
    "                    break;\n",
    "                }\n",
    "                else\n",
    "                {\n",
    "                    Console.WriteLine(spotClose);\n",
    "                    Thread.Sleep(5_000);\n",
    "                }\n",
    "            }\n",
    "            break;\n",
    "        }\n",
    "        else if (spotClose <= argEntryPrice - argStp)\n",
    "        {\n",
    "            Console.WriteLine($\"★停損，出在{spotClose}。\");\n",
    "            break;\n",
    "        }\n",
    "        else Thread.Sleep(5_000);\n",
    "    }\n",
    "    Console.WriteLine(\"★★小台積期：\" + _api.Snapshots(new List<IContract>() { _api.Contracts.Futures[\"QFF\"][\"QFFR1\"] })[0].close);\n",
    "}\n",
    "\n",
    "\n",
    "DateTime DTN = DateTime.Now;\n",
    "bool preMktTime = DTN < DTN.Date + new TimeSpan(5, 00, 0);\n",
    "bool onMktTime = (DTN > DTN.Date + new TimeSpan(8, 45, 0) && DTN < DTN.Date + new TimeSpan(13, 45, 0));\n",
    "DateTime end = preMktTime ? DTN.Date + new TimeSpan(5, 00, 0) : (onMktTime ? DTN.Date + new TimeSpan(13, 45, 0) : DateTime.Now.Date + new TimeSpan(29, 0, 0));\n",
    "while (DateTime.Now < end )\n",
    "{\n",
    "    // 1.有部位就依成本價\n",
    "    // List<Sinopac.Shioaji.FuturePosition> _src = _api.ListPositions(_api.FutureAccount);\n",
    "    // var Pnl = _src.Where(x => x.code.Contains(\"MXF\")).Select(x => x.pnl).FirstOrDefault();\n",
    "    // var entry_price = _src.Where(x => x.code.Contains(\"MXF\")).Select(x => x.price).FirstOrDefault();\n",
    "    \n",
    "\n",
    "    // if(Pnl >= entry_price)\n",
    "    // {\n",
    "    //     MxfMock( rtPositions.First().price, decimal 10.0)\n",
    "    // }\n",
    "    if(false)\n",
    "    {\n",
    "        //\n",
    "    }\n",
    "\n",
    "\n",
    "    // 2.無部位就主觀抓底點\n",
    "    else\n",
    "    {\n",
    "        MxfMock(17975.0, 10.0);\n",
    "        break;\n",
    "    }    \n",
    "}"
   ]
  },
  {
   "cell_type": "code",
   "execution_count": null,
   "metadata": {
    "dotnet_interactive": {
     "language": "csharp"
    },
    "polyglot_notebook": {
     "kernelName": "csharp"
    }
   },
   "outputs": [],
   "source": [
    "// var _contract = _api.Contracts.Futures[\"MXF\"][\"MXF202402\"];    \n",
    "// var _futOptOrder = new FutOptOrder()\n",
    "// {\n",
    "//     action = \"Buy\",\n",
    "//     price = 18000,\n",
    "//     quantity = 1, price_type = \"LMT\", order_type = \"ROD\"//, octype = OCType.DayTrade\n",
    "// };\n",
    "// var _trade = _api.PlaceOrder(_contract, _futOptOrder);\n",
    "// _trade.GetType()\n",
    "foreach(var i in _trade.status)\n",
    "{\n",
    "    Console.WriteLine(i);\n",
    "}"
   ]
  },
  {
   "cell_type": "code",
   "execution_count": null,
   "metadata": {
    "dotnet_interactive": {
     "language": "csharp"
    },
    "polyglot_notebook": {
     "kernelName": "csharp"
    }
   },
   "outputs": [],
   "source": [
    "// _trade.order\n",
    "foreach(var i in _trade.order)\n",
    "{\n",
    "    Console.WriteLine(i[0].value);\n",
    "}"
   ]
  }
 ],
 "metadata": {
  "kernelspec": {
   "display_name": ".NET (C#)",
   "language": "C#",
   "name": ".net-csharp"
  },
  "language_info": {
   "name": "polyglot-notebook"
  },
  "polyglot_notebook": {
   "kernelInfo": {
    "defaultKernelName": "csharp",
    "items": [
     {
      "aliases": [],
      "languageName": "csharp",
      "name": "csharp"
     }
    ]
   }
  }
 },
 "nbformat": 4,
 "nbformat_minor": 2
}
