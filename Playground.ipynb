{
 "cells": [
  {
   "cell_type": "code",
   "execution_count": null,
   "metadata": {
    "dotnet_interactive": {
     "language": "csharp"
    },
    "polyglot_notebook": {
     "kernelName": "csharp"
    }
   },
   "outputs": [],
   "source": [
    "#r \"nuget: Shioaji, 1.1.8\""
   ]
  },
  {
   "cell_type": "code",
   "execution_count": null,
   "metadata": {
    "dotnet_interactive": {
     "language": "csharp"
    },
    "polyglot_notebook": {
     "kernelName": "csharp"
    }
   },
   "outputs": [],
   "source": [
    "using System.IO;\n",
    "using Sinopac.Shioaji;\n",
    "using System.Text.Json;\n",
    "Shioaji _api = new Shioaji();\n",
    "\n",
    "// string jsonString = File.ReadAllText(@\"D:\\Sinopac.json\");\n",
    "string jsonString = File.ReadAllText(@\"D:\\DotnetReactShioaji\\DotnetReactShioaji\\Sinopac.json\");\n",
    "JsonElement root = JsonDocument.Parse(jsonString).RootElement;\n",
    "_api.Login(root.GetProperty(\"API_Key\").GetString(), root.GetProperty(\"Secret_Key\").GetString());\n",
    "\n",
    "// var res = _api.Snapshots(new List<IContract>() {_api.Contracts.Futures[\"TXF\"][\"TXFR1\"]}) //若誤用[0]就導它無法在array裡搜，硬用linq就報錯"
   ]
  },
  {
   "cell_type": "code",
   "execution_count": null,
   "metadata": {
    "dotnet_interactive": {
     "language": "csharp"
    },
    "polyglot_notebook": {
     "kernelName": "csharp"
    }
   },
   "outputs": [],
   "source": [
    "var GetChangePercentRankCodes = _api.Scanners(scannerType: ScannerType.ChangePercentRank, date: \"2024-02-05\", count: 20)\n",
    "    .Where(x => x.close > 20 && x.total_amount > 500_000_000)\n",
    "    .Select(x => new {code = x.code, name = x.name, close = x.close, total_amount =  Math.Round((decimal)x.total_amount / 100_000_000, 2)})\n",
    "    .Select(x => (string)x.code)\n",
    "    .ToList();\n",
    "Console.WriteLine(string.Join(\",\", GetChangePercentRankCodes));\n",
    "\n",
    "_api.Scanners(scannerType: ScannerType.ChangePercentRank, date: \"2024-02-05\", count: 20)\n",
    ".Where(x => (string)x.GetType().GetProperty(\"code\").GetValue(x) == \"6805\")"
   ]
  },
  {
   "cell_type": "code",
   "execution_count": null,
   "metadata": {
    "dotnet_interactive": {
     "language": "csharp"
    },
    "polyglot_notebook": {
     "kernelName": "csharp"
    }
   },
   "outputs": [],
   "source": [
    "using System.Net.Http;\n",
    "using System;\n",
    "using System.Collections.Generic;\n",
    "// using System.Text.Json;\n",
    "// using Newtonsoft.Json;\n",
    "\n",
    "try\n",
    "{\n",
    "    //\n",
    "}\n",
    "catch (Exception ex)\n",
    "{\n",
    "    Console.WriteLine($\"Failed {ex.Message}\");\n",
    "}\n",
    "\n",
    "var client = new HttpClient();\n",
    "var response = client.GetAsync(\"https://openapi.twse.com.tw/v1/exchangeReport/STOCK_DAY_AVG_ALL\").Result;\n",
    "var json = response.Content.ReadAsStringAsync().Result;\n",
    "var src = JsonSerializer.Deserialize<List<dynamic>>(json);\n",
    "src[0]"
   ]
  },
  {
   "cell_type": "code",
   "execution_count": null,
   "metadata": {
    "dotnet_interactive": {
     "language": "csharp"
    },
    "polyglot_notebook": {
     "kernelName": "csharp"
    }
   },
   "outputs": [],
   "source": [
    "// src.Where( x => x.GetType().GetProperty(\"Code\").GetValue(x) == \"0050\")\n",
    "// src.IsAnonymousType()\n",
    "\n",
    "src.Where(o => o.GetType().IsAnonymousType())"
   ]
  },
  {
   "cell_type": "code",
   "execution_count": null,
   "metadata": {
    "dotnet_interactive": {
     "language": "csharp"
    },
    "polyglot_notebook": {
     "kernelName": "csharp"
    }
   },
   "outputs": [],
   "source": [
    "// JsonDocument document = JsonDocument.Parse(src);\n",
    "// document\n",
    "\n",
    "// List<dynamic> src = JsonConvert.DeserializeObject<List<dynamic>>(json);\n",
    "// json\n",
    "src.Where( x => (string)x.GetType().GetProperty(\"Code\").GetValue(x) == \"0050\")//.Select( x => x.Code)\n",
    "    \n",
    "// src.Where(x => GetChangePercentRankCodes.Contains(\"3548\")).Select(x=>x.Code)\n",
    "// src.Where(x => x.Code == \"2330\")//.Select(x=>x.Code)"
   ]
  },
  {
   "cell_type": "code",
   "execution_count": null,
   "metadata": {
    "dotnet_interactive": {
     "language": "csharp"
    },
    "polyglot_notebook": {
     "kernelName": "csharp"
    }
   },
   "outputs": [],
   "source": [
    "using System.Threading;\n",
    "\n",
    "List<Sinopac.Shioaji.FuturePosition> _src = _api.ListPositions(_api.FutureAccount);\n",
    "var argStp = 10M;\n",
    "// 若要mxf 雙sell + BP才監控的話就可用 src.Count(x=x.code.Contains() && .....).Any()\n",
    "if(_src.Any(x => x.code.Contains(\"MXF\")))\n",
    "{\n",
    "    //無關痛癢寫點東西\n",
    "    Console.WriteLine($\"test{_src.Where(x => x.code.Contains(\"MXF\")).Select(x => x.pnl)}.\");\n",
    "\n",
    "    // 建容器存自執行以來的tick，檢查是否漏記錄，但若改用callback應該就會是準備不必特別記\n",
    "    // List<double> _temp = new List<double>();\n",
    "\n",
    "    //很蠢還在定時呼叫快照存close，用callback應該就會是準備不必特別記\n",
    "    // double spotClose = (double)_api.Snapshots(new List<IContract>() { _api.Contracts.Futures[\"TXF\"][\"TXFR1\"] })[0].close;\n",
    "    // _temp.Add(spotClose);\n",
    "    // _temp.Reverse();\n",
    "    // string result = string.Join(\", \", _temp.Take(10));\n",
    "    // Console.WriteLine($\"現在{spotClose}點 \\t 過去 10 ticks {result}\\n高點{_temp.Max()} since start\");\n",
    "    decimal argEntryPrice = _src.Where(x => x.code.Contains(\"MXF\")).Select(x => x.price).SingleOrDefault();\n",
    "    if (17950 >= argEntryPrice + argStp)\n",
    "    {\n",
    "        argEntryPrice += 2;\n",
    "        Console.WriteLine($\"已拉開故到{argEntryPrice}才會被掃出場\");\n",
    "        while (true)\n",
    "        {\n",
    "            spotClose = (double)_api.Snapshots(new List<IContract>() { _api.Contracts.Futures[\"TXF\"][\"TXFR1\"] })[0].close;\n",
    "            _temp.Add(spotClose);\n",
    "            if (spotClose <= (_temp.Max() - argStp))\n",
    "            {\n",
    "                string desc = spotClose >= argEntryPrice ? \"停利\" : \"保本\";\n",
    "                Console.WriteLine($\"★{desc}出在{spotClose}。\");\n",
    "                break;\n",
    "            }\n",
    "            else if (spotClose <= argEntryPrice)\n",
    "            {\n",
    "                Console.WriteLine($\"★保本出在{spotClose}。\");\n",
    "                break;\n",
    "            }\n",
    "            else\n",
    "            {\n",
    "                Console.WriteLine(spotClose);\n",
    "                Thread.Sleep(5_000);\n",
    "            }\n",
    "        }\n",
    "        break;\n",
    "    }\n",
    "    else if (spotClose <= argEntryPrice - argStp)\n",
    "    {\n",
    "        Console.WriteLine($\"★停損，出在{spotClose}。\");\n",
    "        break;\n",
    "    }\n",
    "    else Thread.Sleep(5_000);\n",
    "}"
   ]
  },
  {
   "cell_type": "markdown",
   "metadata": {},
   "source": [
    "# 這區是OK的別誤刪"
   ]
  },
  {
   "cell_type": "code",
   "execution_count": null,
   "metadata": {
    "dotnet_interactive": {
     "language": "csharp"
    },
    "polyglot_notebook": {
     "kernelName": "csharp"
    }
   },
   "outputs": [],
   "source": [
    "using System.Threading;\n",
    "\n",
    "public void MxfMock(double argEntryPrice, double argStp)\n",
    "{\n",
    "    List<double> _temp = new List<double>();\n",
    "    while (true)\n",
    "    {\n",
    "        double spotClose = (double)_api.Snapshots(new List<IContract>() { _api.Contracts.Futures[\"TXF\"][\"TXFR1\"] })[0].close;\n",
    "        _temp.Add(spotClose);\n",
    "        _temp.Reverse();\n",
    "        string result = string.Join(\", \", _temp.Take(10));\n",
    "        Console.WriteLine($\"現在{spotClose}點 \\t 過去 10 ticks {result}\\n高點{_temp.Max()} since start\");\n",
    "        if (spotClose >= argEntryPrice + argStp)\n",
    "        {\n",
    "            argEntryPrice += 2;\n",
    "            Console.WriteLine($\"已拉開故到{argEntryPrice}才會被掃出場\");\n",
    "            while (true)\n",
    "            {\n",
    "                spotClose = (double)_api.Snapshots(new List<IContract>() { _api.Contracts.Futures[\"TXF\"][\"TXFR1\"] })[0].close;\n",
    "                _temp.Add(spotClose);\n",
    "                if (spotClose <= (_temp.Max() - argStp))\n",
    "                {\n",
    "                    string desc = spotClose >= argEntryPrice ? \"停利\" : \"保本\";\n",
    "                    Console.WriteLine($\"★{desc}出在{spotClose}。\");\n",
    "                    break;\n",
    "                }\n",
    "                else if (spotClose <= argEntryPrice)\n",
    "                {\n",
    "                    Console.WriteLine($\"★保本出在{spotClose}。\");\n",
    "                    break;\n",
    "                }\n",
    "                else\n",
    "                {\n",
    "                    Console.WriteLine(spotClose);\n",
    "                    Thread.Sleep(5_000);\n",
    "                }\n",
    "            }\n",
    "            break;\n",
    "        }\n",
    "        else if (spotClose <= argEntryPrice - argStp)\n",
    "        {\n",
    "            Console.WriteLine($\"★停損，出在{spotClose}。\");\n",
    "            break;\n",
    "        }\n",
    "        else Thread.Sleep(5_000);\n",
    "    }\n",
    "    Console.WriteLine(\"★★小台積期：\" + _api.Snapshots(new List<IContract>() { _api.Contracts.Futures[\"QFF\"][\"QFFR1\"] })[0].close);\n",
    "}\n",
    "MxfMock(17950.0, 10.0)"
   ]
  }
 ],
 "metadata": {
  "kernelspec": {
   "display_name": ".NET (C#)",
   "language": "C#",
   "name": ".net-csharp"
  },
  "language_info": {
   "name": "polyglot-notebook"
  },
  "polyglot_notebook": {
   "kernelInfo": {
    "defaultKernelName": "csharp",
    "items": [
     {
      "aliases": [],
      "languageName": "csharp",
      "name": "csharp"
     }
    ]
   }
  }
 },
 "nbformat": 4,
 "nbformat_minor": 2
}
