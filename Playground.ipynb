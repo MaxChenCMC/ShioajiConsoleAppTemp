{
 "cells": [
  {
   "cell_type": "code",
   "execution_count": 2,
   "metadata": {
    "dotnet_interactive": {
     "language": "csharp"
    },
    "polyglot_notebook": {
     "kernelName": "csharp"
    }
   },
   "outputs": [
    {
     "data": {
      "text/html": [
       "<div><div></div><div></div><div><strong>Installed Packages</strong><ul><li><span>Shioaji, 1.1.8</span></li></ul></div></div>"
      ]
     },
     "metadata": {},
     "output_type": "display_data"
    }
   ],
   "source": [
    "#r \"nuget: Shioaji, 1.1.8\""
   ]
  },
  {
   "cell_type": "code",
   "execution_count": 3,
   "metadata": {
    "dotnet_interactive": {
     "language": "csharp"
    },
    "polyglot_notebook": {
     "kernelName": "csharp"
    }
   },
   "outputs": [
    {
     "name": "stdout",
     "output_type": "stream",
     "text": [
      "Connecting as shioaji@sinopac on 203.66.91.161:80...\r\n"
     ]
    }
   ],
   "source": [
    "using System.IO;\n",
    "using Sinopac.Shioaji;\n",
    "using System.Text.Json;\n",
    "Shioaji _api = new Shioaji();\n",
    "\n",
    "string jsonString = File.ReadAllText(@\"D:\\Sinopac.json\");\n",
    "JsonElement root = JsonDocument.Parse(jsonString).RootElement;\n",
    "_api.Login(root.GetProperty(\"API_Key\").GetString(), root.GetProperty(\"Secret_Key\").GetString());\n",
    "\n",
    "// var res = _api.Snapshots(new List<IContract>() {_api.Contracts.Futures[\"TXF\"][\"TXFR1\"]}) //若誤用[0]就導它無法在array裡搜，硬用linq就報錯"
   ]
  },
  {
   "cell_type": "code",
   "execution_count": 8,
   "metadata": {
    "dotnet_interactive": {
     "language": "csharp"
    },
    "polyglot_notebook": {
     "kernelName": "csharp"
    }
   },
   "outputs": [
    {
     "data": {
      "text/html": [
       "<table><thead><tr><th><i>index</i></th><th>value</th></tr></thead><tbody><tr><td>0</td><td><details class=\"dni-treeview\"><summary><span class=\"dni-code-hint\"><code>{ code = 6805, name = 富世達, close = 638, total_amount = 19.37 }</code></span></summary><div><table><thead><tr></tr></thead><tbody><tr><td>code</td><td><div class=\"dni-plaintext\"><pre>6805</pre></div></td></tr><tr><td>name</td><td><div class=\"dni-plaintext\"><pre>富世達</pre></div></td></tr><tr><td>close</td><td><div class=\"dni-plaintext\"><pre>638</pre></div></td></tr><tr><td>total_amount</td><td><div class=\"dni-plaintext\"><pre>19.37</pre></div></td></tr></tbody></table></div></details></td></tr><tr><td>1</td><td><details class=\"dni-treeview\"><summary><span class=\"dni-code-hint\"><code>{ code = 2465, name = 麗臺, close = 85.9, total_amount = 6.25 }</code></span></summary><div><table><thead><tr></tr></thead><tbody><tr><td>code</td><td><div class=\"dni-plaintext\"><pre>2465</pre></div></td></tr><tr><td>name</td><td><div class=\"dni-plaintext\"><pre>麗臺</pre></div></td></tr><tr><td>close</td><td><div class=\"dni-plaintext\"><pre>85.9</pre></div></td></tr><tr><td>total_amount</td><td><div class=\"dni-plaintext\"><pre>6.25</pre></div></td></tr></tbody></table></div></details></td></tr><tr><td>2</td><td><details class=\"dni-treeview\"><summary><span class=\"dni-code-hint\"><code>{ code = 6785, name = 昱展新藥, close = 330.5, total_amount = 5.81 }</code></span></summary><div><table><thead><tr></tr></thead><tbody><tr><td>code</td><td><div class=\"dni-plaintext\"><pre>6785</pre></div></td></tr><tr><td>name</td><td><div class=\"dni-plaintext\"><pre>昱展新藥</pre></div></td></tr><tr><td>close</td><td><div class=\"dni-plaintext\"><pre>330.5</pre></div></td></tr><tr><td>total_amount</td><td><div class=\"dni-plaintext\"><pre>5.81</pre></div></td></tr></tbody></table></div></details></td></tr><tr><td>3</td><td><details class=\"dni-treeview\"><summary><span class=\"dni-code-hint\"><code>{ code = 3324, name = 雙鴻, close = 425, total_amount = 51.28 }</code></span></summary><div><table><thead><tr></tr></thead><tbody><tr><td>code</td><td><div class=\"dni-plaintext\"><pre>3324</pre></div></td></tr><tr><td>name</td><td><div class=\"dni-plaintext\"><pre>雙鴻</pre></div></td></tr><tr><td>close</td><td><div class=\"dni-plaintext\"><pre>425</pre></div></td></tr><tr><td>total_amount</td><td><div class=\"dni-plaintext\"><pre>51.28</pre></div></td></tr></tbody></table></div></details></td></tr><tr><td>4</td><td><details class=\"dni-treeview\"><summary><span class=\"dni-code-hint\"><code>{ code = 2421, name = 建準, close = 134.5, total_amount = 67.74 }</code></span></summary><div><table><thead><tr></tr></thead><tbody><tr><td>code</td><td><div class=\"dni-plaintext\"><pre>2421</pre></div></td></tr><tr><td>name</td><td><div class=\"dni-plaintext\"><pre>建準</pre></div></td></tr><tr><td>close</td><td><div class=\"dni-plaintext\"><pre>134.5</pre></div></td></tr><tr><td>total_amount</td><td><div class=\"dni-plaintext\"><pre>67.74</pre></div></td></tr></tbody></table></div></details></td></tr></tbody></table><style>\r\n",
       ".dni-code-hint {\r\n",
       "    font-style: italic;\r\n",
       "    overflow: hidden;\r\n",
       "    white-space: nowrap;\r\n",
       "}\r\n",
       ".dni-treeview {\r\n",
       "    white-space: nowrap;\r\n",
       "}\r\n",
       ".dni-treeview td {\r\n",
       "    vertical-align: top;\r\n",
       "    text-align: start;\r\n",
       "}\r\n",
       "details.dni-treeview {\r\n",
       "    padding-left: 1em;\r\n",
       "}\r\n",
       "table td {\r\n",
       "    text-align: start;\r\n",
       "}\r\n",
       "table tr { \r\n",
       "    vertical-align: top; \r\n",
       "    margin: 0em 0px;\r\n",
       "}\r\n",
       "table tr td pre \r\n",
       "{ \r\n",
       "    vertical-align: top !important; \r\n",
       "    margin: 0em 0px !important;\r\n",
       "} \r\n",
       "table th {\r\n",
       "    text-align: start;\r\n",
       "}\r\n",
       "</style>"
      ]
     },
     "metadata": {},
     "output_type": "display_data"
    }
   ],
   "source": [
    "var GetChangePercentRankCodes = _api.Scanners(scannerType: ScannerType.ChangePercentRank, date: \"2024-02-02\", count: 20)\n",
    "    .Where(x => x.close > 20 && x.total_amount > 500_000_000)\n",
    "    .Select(x => new {code = x.code, name = x.name, close = x.close, total_amount =  Math.Round((double)x.total_amount / 100_000_000, 2)});\n",
    "\n",
    "GetChangePercentRankCodes"
   ]
  },
  {
   "cell_type": "code",
   "execution_count": 9,
   "metadata": {
    "dotnet_interactive": {
     "language": "csharp"
    },
    "polyglot_notebook": {
     "kernelName": "csharp"
    }
   },
   "outputs": [
    {
     "data": {
      "text/html": [
       "<details open=\"open\" class=\"dni-treeview\"><summary><span class=\"dni-code-hint\"><code>{ code = 17550Put, direction = Buy, entry_price = 49.0, cover_price = 17481.0, netPnl = 951.0 }</code></span></summary><div><table><thead><tr></tr></thead><tbody><tr><td>code</td><td><div class=\"dni-plaintext\"><pre>17550Put</pre></div></td></tr><tr><td>direction</td><td><div class=\"dni-plaintext\"><pre>Buy</pre></div></td></tr><tr><td>entry_price</td><td><div class=\"dni-plaintext\"><pre>49.0</pre></div></td></tr><tr><td>cover_price</td><td><div class=\"dni-plaintext\"><pre>17481.0</pre></div></td></tr><tr><td>netPnl</td><td><div class=\"dni-plaintext\"><pre>951.0</pre></div></td></tr></tbody></table></div></details><style>\r\n",
       ".dni-code-hint {\r\n",
       "    font-style: italic;\r\n",
       "    overflow: hidden;\r\n",
       "    white-space: nowrap;\r\n",
       "}\r\n",
       ".dni-treeview {\r\n",
       "    white-space: nowrap;\r\n",
       "}\r\n",
       ".dni-treeview td {\r\n",
       "    vertical-align: top;\r\n",
       "    text-align: start;\r\n",
       "}\r\n",
       "details.dni-treeview {\r\n",
       "    padding-left: 1em;\r\n",
       "}\r\n",
       "table td {\r\n",
       "    text-align: start;\r\n",
       "}\r\n",
       "table tr { \r\n",
       "    vertical-align: top; \r\n",
       "    margin: 0em 0px;\r\n",
       "}\r\n",
       "table tr td pre \r\n",
       "{ \r\n",
       "    vertical-align: top !important; \r\n",
       "    margin: 0em 0px !important;\r\n",
       "} \r\n",
       "table th {\r\n",
       "    text-align: start;\r\n",
       "}\r\n",
       "</style>"
      ]
     },
     "metadata": {},
     "output_type": "display_data"
    }
   ],
   "source": [
    "dynamic src;\n",
    "dynamic gg;\n",
    "try\n",
    "{\n",
    "    src = _api.ListProfitLossSummary(\"2024-01-10\", \"2024-01-10\", _api.FutureAccount).profitloss_summary[0];\n",
    "    gg = new {\n",
    "        code = (src.code.Substring(3, 5)) + (src.code[8] < 'L' ? \"Call\" : \"Put\"),\n",
    "        direction = src.direction,\n",
    "        entry_price = src.entry_price,\n",
    "        cover_price = src.cover_price,\n",
    "        netPnl = src.pnl - src.fee - src.tax\n",
    "    };    \n",
    "}\n",
    "catch (Exception ex)\n",
    "{\n",
    "    Console.WriteLine($\"Failed {ex.Message}\");\n",
    "}\n",
    "\n",
    "gg"
   ]
  },
  {
   "cell_type": "code",
   "execution_count": 50,
   "metadata": {
    "dotnet_interactive": {
     "language": "csharp"
    },
    "polyglot_notebook": {
     "kernelName": "csharp"
    }
   },
   "outputs": [
    {
     "data": {
      "text/html": [
       "<table><thead><tr><th><i>index</i></th><th>value</th></tr></thead><tbody><tr><td>0</td><td><details class=\"dni-treeview\"><summary><span class=\"dni-code-hint\"><code>{ code = 17550Put, direction = Buy, entry_price = 49.0, cover_price = 17481.0, netPnl = 951.0 }</code></span></summary><div><table><thead><tr></tr></thead><tbody><tr><td>code</td><td><div class=\"dni-plaintext\"><pre>17550Put</pre></div></td></tr><tr><td>direction</td><td><div class=\"dni-plaintext\"><pre>Buy</pre></div></td></tr><tr><td>entry_price</td><td><div class=\"dni-plaintext\"><pre>49.0</pre></div></td></tr><tr><td>cover_price</td><td><div class=\"dni-plaintext\"><pre>17481.0</pre></div></td></tr><tr><td>netPnl</td><td><div class=\"dni-plaintext\"><pre>951.0</pre></div></td></tr></tbody></table></div></details></td></tr><tr><td>1</td><td><details class=\"dni-treeview\"><summary><span class=\"dni-code-hint\"><code>{ code = 17250Call, direction = Buy, entry_price = 99.0, cover_price = 125.0, netPnl = 1259.0 }</code></span></summary><div><table><thead><tr></tr></thead><tbody><tr><td>code</td><td><div class=\"dni-plaintext\"><pre>17250Call</pre></div></td></tr><tr><td>direction</td><td><div class=\"dni-plaintext\"><pre>Buy</pre></div></td></tr><tr><td>entry_price</td><td><div class=\"dni-plaintext\"><pre>99.0</pre></div></td></tr><tr><td>cover_price</td><td><div class=\"dni-plaintext\"><pre>125.0</pre></div></td></tr><tr><td>netPnl</td><td><div class=\"dni-plaintext\"><pre>1259.0</pre></div></td></tr></tbody></table></div></details></td></tr></tbody></table><style>\r\n",
       ".dni-code-hint {\r\n",
       "    font-style: italic;\r\n",
       "    overflow: hidden;\r\n",
       "    white-space: nowrap;\r\n",
       "}\r\n",
       ".dni-treeview {\r\n",
       "    white-space: nowrap;\r\n",
       "}\r\n",
       ".dni-treeview td {\r\n",
       "    vertical-align: top;\r\n",
       "    text-align: start;\r\n",
       "}\r\n",
       "details.dni-treeview {\r\n",
       "    padding-left: 1em;\r\n",
       "}\r\n",
       "table td {\r\n",
       "    text-align: start;\r\n",
       "}\r\n",
       "table tr { \r\n",
       "    vertical-align: top; \r\n",
       "    margin: 0em 0px;\r\n",
       "}\r\n",
       "table tr td pre \r\n",
       "{ \r\n",
       "    vertical-align: top !important; \r\n",
       "    margin: 0em 0px !important;\r\n",
       "} \r\n",
       "table th {\r\n",
       "    text-align: start;\r\n",
       "}\r\n",
       "</style>"
      ]
     },
     "metadata": {},
     "output_type": "display_data"
    }
   ],
   "source": [
    "public dynamic anonListProfitLossSummary(string bgn, string end)\n",
    "{\n",
    "    var src = _api.ListProfitLossSummary(bgn, end, _api.FutureAccount).profitloss_summary[0];\n",
    "    var productAnonymous = new\n",
    "    {\n",
    "        code = (src.code.Substring(3, 5)) + (src.code[8] < 'L' ? \"Call\" : \"Put\"),\n",
    "        direction = src.direction,\n",
    "        entry_price = src.entry_price,\n",
    "        cover_price = src.cover_price,\n",
    "        netPnl = src.pnl - src.fee - src.tax\n",
    "    };\n",
    "    return productAnonymous;\n",
    "}\n",
    "\n",
    "List<object> _temp = new List<object>();\n",
    "_temp.Add(anonListProfitLossSummary(\"2024-01-10\", \"2024-01-10\"));\n",
    "_temp.Add(anonListProfitLossSummary(\"2024-01-18\", \"2024-01-18\"));\n",
    "// _temp.Add(anonListProfitLossSummary(\"2024-01-31\", \"2024-01-31\"));\n",
    "// _temp.Where(x => (Decimal)x.GetType().GetProperty(\"entry_price\").GetValue(x) >= (Decimal)49.0)\n",
    "\n",
    "_temp//.Max(x => (Decimal)x.GetType().GetProperty(\"entry_price\").GetValue(x))"
   ]
  },
  {
   "cell_type": "code",
   "execution_count": null,
   "metadata": {
    "dotnet_interactive": {
     "language": "csharp"
    },
    "polyglot_notebook": {
     "kernelName": "csharp"
    }
   },
   "outputs": [],
   "source": [
    "var client = new HttpClient();\n",
    "var response = client.GetAsync(\"https://openapi.twse.com.tw/v1/\" + \"exchangeReport/STOCK_DAY_AVG_ALL\").Result;\n",
    "var json = response.Content.ReadAsStringAsync().Result;\n",
    "List<dynamic> OpenApiMonthlyAveragePrice = JsonConvert.DeserializeObject<List<dynamic>>(json);\n",
    "// OpenApiMonthlyAveragePrice.Where(x=> x.Code == \"2330\").Select( x => new {code = x.code, name = x.MonthlyAveragePrice})\n",
    "// OpenApiMonthlyAveragePrice.Any(x => x.Code == \"2330\")\n",
    "// OpenApiMonthlyAveragePrice.Where(x => x.Code == \"2330\").Select( x => x )\n",
    "// OpenApiMonthlyAveragePrice.Take(3)"
   ]
  },
  {
   "cell_type": "code",
   "execution_count": null,
   "metadata": {
    "dotnet_interactive": {
     "language": "csharp"
    },
    "polyglot_notebook": {
     "kernelName": "csharp"
    }
   },
   "outputs": [],
   "source": [
    "List<Sinopac.Shioaji.FuturePosition> _src = _api.ListPositions(_api.FutureAccount);  //允許多筆故idx 0會報錯\n",
    "// _src.Where(x => x.code[8]<'L').Select(x=>x.code)\n",
    "IEnumerable data;\n",
    "if(_src.Any(x => x.code[8] > 'L'))\n",
    "{\n",
    "    data = _src.Select(x=>x.code);\n",
    "}\n",
    "else\n",
    "{\n",
    "    Console.WriteLine(\"待建BCSC的部位\"); \n",
    "}\n",
    "data\n",
    "// var direction = _src.Where(x => x.code.Contains(\"TX5\")).Select(x => x.direction).FirstOrDefault();\n",
    "// var entry_price = _src.Where(x => x.code.Contains(\"TX5\")).Select(x => x.price).FirstOrDefault();\n",
    "// var last_price = _src.Where(x => x.code.Contains(\"TX5\")).Select(x => x.last_price).FirstOrDefault();\n",
    "// var Pnl = _src.Where(x => x.code.Contains(\"TX5\")).Select(x => x.pnl).FirstOrDefault();\n",
    "// Pnl"
   ]
  },
  {
   "cell_type": "code",
   "execution_count": null,
   "metadata": {
    "dotnet_interactive": {
     "language": "csharp"
    },
    "polyglot_notebook": {
     "kernelName": "csharp"
    }
   },
   "outputs": [],
   "source": [
    "List<Sinopac.Shioaji.FuturePosition> _src = _api.ListPositions(_api.FutureAccount);\n",
    "if(_src.Any()) // 若要mxf 雙sell + BP才監控的話就可用 src.Count(x=x.code.Contains() && .....).Any()\n",
    "{\n",
    "    if(_src.Where(x => x.code.Contains(\"MXF\")))\n",
    "    {\n",
    "    //準備監控 移停、出場或停損\n",
    "    // var _contract = _api.Contracts.Futures[\"MXF\"][\"MXF202402\"];    \n",
    "    // var _futOptOrder = new FutOptOrder()\n",
    "    // {\n",
    "    //     action = \"Buy\",\n",
    "    //     price = 18000,\n",
    "    //     quantity = 1, price_type = \"LMT\", order_type = \"ROD\"//, octype = OCType.DayTrade\n",
    "    // };\n",
    "    // var _trade = _api.PlaceOrder(_contract, _futOptOrder);\n",
    "\n",
    "    // foreach(var i in _trade.status)\n",
    "    // {\n",
    "    //     Console.WriteLine(i);\n",
    "    // }\n",
    "\n",
    "    }\n",
    "    else\n",
    "    {\n",
    "        if (_src.Any(x => x.code[8] < 'L'))\n",
    "        {\n",
    "            var data1 =_src.Select(x=> new {x.price, x.last_price, x.pnl});\n",
    "            Console.WriteLine(string.Join(\", \", data1));\n",
    "        }\n",
    "        else if(_src.Any(x => x.code[8] > 'L'))\n",
    "        {\n",
    "            var data1 =_src.Select(x=> new {x.price, x.last_price, x.pnl});\n",
    "            Console.WriteLine(string.Join(\", \", data1));\n",
    "        }\n",
    "        else\n",
    "        {\n",
    "            Console.WriteLine(\"空手沒部位\"); \n",
    "        }\n",
    "    }\n",
    "}\n"
   ]
  },
  {
   "cell_type": "code",
   "execution_count": null,
   "metadata": {
    "dotnet_interactive": {
     "language": "csharp"
    },
    "polyglot_notebook": {
     "kernelName": "csharp"
    }
   },
   "outputs": [],
   "source": [
    "using System.Threading;\n",
    "\n",
    "public void MxfMock(double argEntryPrice, double argStp)\n",
    "{\n",
    "    List<double> _temp = new List<double>();\n",
    "    while (true)\n",
    "    {\n",
    "        double spotClose = (double)_api.Snapshots(new List<IContract>() { _api.Contracts.Futures[\"TXF\"][\"TXFR1\"] })[0].close;\n",
    "        _temp.Add(spotClose);\n",
    "        _temp.Reverse();\n",
    "        string result = string.Join(\", \", _temp.Take(10));\n",
    "        Console.WriteLine($\"現在{spotClose}點 \\t 過去 10 ticks {result}\\n高點{_temp.Max()} since start\");\n",
    "        if (spotClose >= argEntryPrice + argStp)\n",
    "        {\n",
    "            argEntryPrice += 2;\n",
    "            Console.WriteLine($\"已拉開故到{argEntryPrice}才會被掃出場\");\n",
    "            while (true)\n",
    "            {\n",
    "                spotClose = (double)_api.Snapshots(new List<IContract>() { _api.Contracts.Futures[\"TXF\"][\"TXFR1\"] })[0].close;\n",
    "                _temp.Add(spotClose);\n",
    "                if (spotClose <= (_temp.Max() - argStp))\n",
    "                {\n",
    "                    string desc = spotClose >= argEntryPrice ? \"停利\" : \"保本\";\n",
    "                    Console.WriteLine($\"★{desc}出在{spotClose}。\");\n",
    "                    break;\n",
    "                }\n",
    "                else if (spotClose <= argEntryPrice)\n",
    "                {\n",
    "                    Console.WriteLine($\"★保本出在{spotClose}。\");\n",
    "                    break;\n",
    "                }\n",
    "                else\n",
    "                {\n",
    "                    Console.WriteLine(spotClose);\n",
    "                    Thread.Sleep(5_000);\n",
    "                }\n",
    "            }\n",
    "            break;\n",
    "        }\n",
    "        else if (spotClose <= argEntryPrice - argStp)\n",
    "        {\n",
    "            Console.WriteLine($\"★停損，出在{spotClose}。\");\n",
    "            break;\n",
    "        }\n",
    "        else Thread.Sleep(5_000);\n",
    "    }\n",
    "    Console.WriteLine(\"★★小台積期：\" + _api.Snapshots(new List<IContract>() { _api.Contracts.Futures[\"QFF\"][\"QFFR1\"] })[0].close);\n",
    "}\n"
   ]
  },
  {
   "cell_type": "code",
   "execution_count": 6,
   "metadata": {
    "dotnet_interactive": {
     "language": "csharp"
    },
    "polyglot_notebook": {
     "kernelName": "csharp"
    }
   },
   "outputs": [
    {
     "name": "stdout",
     "output_type": "stream",
     "text": [
      "Would Stop at 2/4/2024 5:00:00 AM\r\n"
     ]
    }
   ],
   "source": [
    "\n",
    "        // 1.有部位就依成本價\n",
    "        List<Sinopac.Shioaji.FuturePosition> _src = _api.ListPositions(_api.FutureAccount);\n",
    "        var Pnl = _src.Where(x => x.code.Contains(\"MXF\")).Select(x => x.pnl).FirstOrDefault();\n",
    "        var entry_price = _src.Where(x => x.code.Contains(\"MXF\")).Select(x => x.price).FirstOrDefault();\n",
    "\n",
    "\n",
    "        if(Pnl >= entry_price)\n",
    "        {\n",
    "            MxfMock( rtPositions.First().price, decimal 10.0)\n",
    "        }\n",
    "\n",
    "\n",
    "\n",
    "        // 2.無部位就主觀抓底點\n",
    "        else\n",
    "        {\n",
    "            // MxfMock(17975.0, 10.0);\n",
    "            break;\n",
    "        }  \n",
    "\n",
    "MxfMock()"
   ]
  },
  {
   "cell_type": "code",
   "execution_count": null,
   "metadata": {
    "dotnet_interactive": {
     "language": "csharp"
    },
    "polyglot_notebook": {
     "kernelName": "csharp"
    }
   },
   "outputs": [],
   "source": [
    "// _trade.order\n",
    "foreach(var i in _trade.order)\n",
    "{\n",
    "    Console.WriteLine(i[0].value);\n",
    "}"
   ]
  }
 ],
 "metadata": {
  "kernelspec": {
   "display_name": ".NET (C#)",
   "language": "C#",
   "name": ".net-csharp"
  },
  "language_info": {
   "name": "polyglot-notebook"
  },
  "polyglot_notebook": {
   "kernelInfo": {
    "defaultKernelName": "csharp",
    "items": [
     {
      "aliases": [],
      "languageName": "csharp",
      "name": "csharp"
     }
    ]
   }
  }
 },
 "nbformat": 4,
 "nbformat_minor": 2
}
