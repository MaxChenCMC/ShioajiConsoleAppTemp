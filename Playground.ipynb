{
 "cells": [
  {
   "cell_type": "code",
   "execution_count": null,
   "metadata": {
    "dotnet_interactive": {
     "language": "csharp"
    },
    "polyglot_notebook": {
     "kernelName": "csharp"
    }
   },
   "outputs": [],
   "source": [
    "#r \"nuget: Shioaji, 1.1.8\""
   ]
  },
  {
   "cell_type": "code",
   "execution_count": 2,
   "metadata": {
    "dotnet_interactive": {
     "language": "csharp"
    },
    "polyglot_notebook": {
     "kernelName": "csharp"
    }
   },
   "outputs": [
    {
     "name": "stdout",
     "output_type": "stream",
     "text": [
      "Connecting as shioaji@sinopac on 203.66.91.161:80...\r\n"
     ]
    }
   ],
   "source": [
    "using System.IO;\n",
    "using Sinopac.Shioaji;\n",
    "using System.Text.Json;\n",
    "Shioaji _api = new Shioaji();\n",
    "\n",
    "string jsonString = File.ReadAllText(@\"D:\\Sinopac.json\");\n",
    "JsonElement root = JsonDocument.Parse(jsonString).RootElement;\n",
    "_api.Login(root.GetProperty(\"API_Key\").GetString(), root.GetProperty(\"Secret_Key\").GetString());\n",
    "\n",
    "// var res = _api.Snapshots(new List<IContract>() {_api.Contracts.Futures[\"TXF\"][\"TXFR1\"]}) //若誤用[0]就導它無法在array裡搜，硬用linq就報錯"
   ]
  },
  {
   "cell_type": "code",
   "execution_count": 13,
   "metadata": {
    "dotnet_interactive": {
     "language": "csharp"
    },
    "polyglot_notebook": {
     "kernelName": "csharp"
    }
   },
   "outputs": [
    {
     "data": {
      "text/html": [
       "<table><thead><tr><th><i>index</i></th><th>value</th></tr></thead><tbody><tr><td>0</td><td><details class=\"dni-treeview\"><summary><span class=\"dni-code-hint\"><code>{ code = 3324, name = 雙鴻, close = 425, total_amount = 51.28 }</code></span></summary><div><table><thead><tr></tr></thead><tbody><tr><td>code</td><td><div class=\"dni-plaintext\"><pre>3324</pre></div></td></tr><tr><td>name</td><td><div class=\"dni-plaintext\"><pre>雙鴻</pre></div></td></tr><tr><td>close</td><td><div class=\"dni-plaintext\"><pre>425</pre></div></td></tr><tr><td>total_amount</td><td><div class=\"dni-plaintext\"><pre>51.28</pre></div></td></tr></tbody></table></div></details></td></tr><tr><td>1</td><td><details class=\"dni-treeview\"><summary><span class=\"dni-code-hint\"><code>{ code = 2421, name = 建準, close = 134.5, total_amount = 67.74 }</code></span></summary><div><table><thead><tr></tr></thead><tbody><tr><td>code</td><td><div class=\"dni-plaintext\"><pre>2421</pre></div></td></tr><tr><td>name</td><td><div class=\"dni-plaintext\"><pre>建準</pre></div></td></tr><tr><td>close</td><td><div class=\"dni-plaintext\"><pre>134.5</pre></div></td></tr><tr><td>total_amount</td><td><div class=\"dni-plaintext\"><pre>67.74</pre></div></td></tr></tbody></table></div></details></td></tr></tbody></table><style>\r\n",
       ".dni-code-hint {\r\n",
       "    font-style: italic;\r\n",
       "    overflow: hidden;\r\n",
       "    white-space: nowrap;\r\n",
       "}\r\n",
       ".dni-treeview {\r\n",
       "    white-space: nowrap;\r\n",
       "}\r\n",
       ".dni-treeview td {\r\n",
       "    vertical-align: top;\r\n",
       "    text-align: start;\r\n",
       "}\r\n",
       "details.dni-treeview {\r\n",
       "    padding-left: 1em;\r\n",
       "}\r\n",
       "table td {\r\n",
       "    text-align: start;\r\n",
       "}\r\n",
       "table tr { \r\n",
       "    vertical-align: top; \r\n",
       "    margin: 0em 0px;\r\n",
       "}\r\n",
       "table tr td pre \r\n",
       "{ \r\n",
       "    vertical-align: top !important; \r\n",
       "    margin: 0em 0px !important;\r\n",
       "} \r\n",
       "table th {\r\n",
       "    text-align: start;\r\n",
       "}\r\n",
       "</style>"
      ]
     },
     "metadata": {},
     "output_type": "display_data"
    }
   ],
   "source": [
    "var GetChangePercentRankCodes = _api.Scanners(scannerType: ScannerType.ChangePercentRank, date: \"2024-02-02\", count: 20)\n",
    "    .Where(x => x.close > 20 && x.total_amount > 500_000_000)\n",
    "    .Select(x => new {code = x.code, name = x.name, close = x.close, total_amount =  Math.Round((decimal)x.total_amount / 100_000_000, 2)});\n",
    "\n",
    "GetChangePercentRankCodes.Where(x => (decimal)x.GetType().GetProperty(\"total_amount\").GetValue(x) >= 51)"
   ]
  },
  {
   "cell_type": "code",
   "execution_count": null,
   "metadata": {
    "dotnet_interactive": {
     "language": "csharp"
    },
    "polyglot_notebook": {
     "kernelName": "csharp"
    }
   },
   "outputs": [],
   "source": [
    "using System.Net.Http;\n",
    "try\n",
    "{\n",
    "    var client = new HttpClient();\n",
    "    var response = client.GetAsync(\"https://openapi.twse.com.tw/v1/\" + \"exchangeReport/STOCK_DAY_AVG_ALL\").Result;\n",
    "    var json = response.Content.ReadAsStringAsync().Result;\n",
    "    List<dynamic> OpenApiMonthlyAveragePrice = JsonConvert.DeserializeObject<List<dynamic>>(json);\n",
    "    // OpenApiMonthlyAveragePrice.Where(x=> x.Code == \"2330\").Select( x => new {code = x.code, name = x.MonthlyAveragePrice})\n",
    "    // OpenApiMonthlyAveragePrice.Any(x => x.Code == \"2330\")\n",
    "    OpenApiMonthlyAveragePrice.Where(x => x.Code == \"2330\").Select( x => x );\n",
    "    // OpenApiMonthlyAveragePrice.Take(3);\n",
    "}\n",
    "catch (Exception ex)\n",
    "{\n",
    "    Console.WriteLine($\"Failed {ex.Message}\");\n",
    "}\n",
    "\n",
    "OpenApiMonthlyAveragePrice.Where(x => x.Code == \"2330\").Select( x => x )"
   ]
  },
  {
   "cell_type": "code",
   "execution_count": null,
   "metadata": {
    "dotnet_interactive": {
     "language": "csharp"
    },
    "polyglot_notebook": {
     "kernelName": "csharp"
    }
   },
   "outputs": [],
   "source": [
    "using System.Threading;\n",
    "\n",
    "List<Sinopac.Shioaji.FuturePosition> _src = _api.ListPositions(_api.FutureAccount);\n",
    "var argStp = 10M;\n",
    "// 若要mxf 雙sell + BP才監控的話就可用 src.Count(x=x.code.Contains() && .....).Any()\n",
    "if(_src.Any(x => x.code.Contains(\"MXF\")))\n",
    "{\n",
    "    //無關痛癢寫點東西\n",
    "    Console.WriteLine($\"test{_src.Where(x => x.code.Contains(\"MXF\")).Select(x => x.pnl)}.\");\n",
    "\n",
    "    // 建容器存自執行以來的tick，檢查是否漏記錄，但若改用callback應該就會是準備不必特別記\n",
    "    // List<double> _temp = new List<double>();\n",
    "\n",
    "    //很蠢還在定時呼叫快照存close，用callback應該就會是準備不必特別記\n",
    "    // double spotClose = (double)_api.Snapshots(new List<IContract>() { _api.Contracts.Futures[\"TXF\"][\"TXFR1\"] })[0].close;\n",
    "    // _temp.Add(spotClose);\n",
    "    // _temp.Reverse();\n",
    "    // string result = string.Join(\", \", _temp.Take(10));\n",
    "    // Console.WriteLine($\"現在{spotClose}點 \\t 過去 10 ticks {result}\\n高點{_temp.Max()} since start\");\n",
    "    decimal argEntryPrice = _src.Where(x => x.code.Contains(\"MXF\")).Select(x => x.price).SingleOrDefault();\n",
    "    if (17950 >= argEntryPrice + argStp)\n",
    "    {\n",
    "        argEntryPrice += 2;\n",
    "        Console.WriteLine($\"已拉開故到{argEntryPrice}才會被掃出場\");\n",
    "        while (true)\n",
    "        {\n",
    "            spotClose = (double)_api.Snapshots(new List<IContract>() { _api.Contracts.Futures[\"TXF\"][\"TXFR1\"] })[0].close;\n",
    "            _temp.Add(spotClose);\n",
    "            if (spotClose <= (_temp.Max() - argStp))\n",
    "            {\n",
    "                string desc = spotClose >= argEntryPrice ? \"停利\" : \"保本\";\n",
    "                Console.WriteLine($\"★{desc}出在{spotClose}。\");\n",
    "                break;\n",
    "            }\n",
    "            else if (spotClose <= argEntryPrice)\n",
    "            {\n",
    "                Console.WriteLine($\"★保本出在{spotClose}。\");\n",
    "                break;\n",
    "            }\n",
    "            else\n",
    "            {\n",
    "                Console.WriteLine(spotClose);\n",
    "                Thread.Sleep(5_000);\n",
    "            }\n",
    "        }\n",
    "        break;\n",
    "    }\n",
    "    else if (spotClose <= argEntryPrice - argStp)\n",
    "    {\n",
    "        Console.WriteLine($\"★停損，出在{spotClose}。\");\n",
    "        break;\n",
    "    }\n",
    "    else Thread.Sleep(5_000);\n",
    "}"
   ]
  },
  {
   "cell_type": "markdown",
   "metadata": {},
   "source": [
    "# 這區是OK的別誤刪"
   ]
  },
  {
   "cell_type": "code",
   "execution_count": null,
   "metadata": {
    "dotnet_interactive": {
     "language": "csharp"
    },
    "polyglot_notebook": {
     "kernelName": "csharp"
    }
   },
   "outputs": [],
   "source": [
    "using System.Threading;\n",
    "\n",
    "public void MxfMock(double argEntryPrice, double argStp)\n",
    "{\n",
    "    List<double> _temp = new List<double>();\n",
    "    while (true)\n",
    "    {\n",
    "        double spotClose = (double)_api.Snapshots(new List<IContract>() { _api.Contracts.Futures[\"TXF\"][\"TXFR1\"] })[0].close;\n",
    "        _temp.Add(spotClose);\n",
    "        _temp.Reverse();\n",
    "        string result = string.Join(\", \", _temp.Take(10));\n",
    "        Console.WriteLine($\"現在{spotClose}點 \\t 過去 10 ticks {result}\\n高點{_temp.Max()} since start\");\n",
    "        if (spotClose >= argEntryPrice + argStp)\n",
    "        {\n",
    "            argEntryPrice += 2;\n",
    "            Console.WriteLine($\"已拉開故到{argEntryPrice}才會被掃出場\");\n",
    "            while (true)\n",
    "            {\n",
    "                spotClose = (double)_api.Snapshots(new List<IContract>() { _api.Contracts.Futures[\"TXF\"][\"TXFR1\"] })[0].close;\n",
    "                _temp.Add(spotClose);\n",
    "                if (spotClose <= (_temp.Max() - argStp))\n",
    "                {\n",
    "                    string desc = spotClose >= argEntryPrice ? \"停利\" : \"保本\";\n",
    "                    Console.WriteLine($\"★{desc}出在{spotClose}。\");\n",
    "                    break;\n",
    "                }\n",
    "                else if (spotClose <= argEntryPrice)\n",
    "                {\n",
    "                    Console.WriteLine($\"★保本出在{spotClose}。\");\n",
    "                    break;\n",
    "                }\n",
    "                else\n",
    "                {\n",
    "                    Console.WriteLine(spotClose);\n",
    "                    Thread.Sleep(5_000);\n",
    "                }\n",
    "            }\n",
    "            break;\n",
    "        }\n",
    "        else if (spotClose <= argEntryPrice - argStp)\n",
    "        {\n",
    "            Console.WriteLine($\"★停損，出在{spotClose}。\");\n",
    "            break;\n",
    "        }\n",
    "        else Thread.Sleep(5_000);\n",
    "    }\n",
    "    Console.WriteLine(\"★★小台積期：\" + _api.Snapshots(new List<IContract>() { _api.Contracts.Futures[\"QFF\"][\"QFFR1\"] })[0].close);\n",
    "}\n",
    "MxfMock(17950.0, 10.0)"
   ]
  }
 ],
 "metadata": {
  "kernelspec": {
   "display_name": ".NET (C#)",
   "language": "C#",
   "name": ".net-csharp"
  },
  "language_info": {
   "name": "polyglot-notebook"
  },
  "polyglot_notebook": {
   "kernelInfo": {
    "defaultKernelName": "csharp",
    "items": [
     {
      "aliases": [],
      "languageName": "csharp",
      "name": "csharp"
     }
    ]
   }
  }
 },
 "nbformat": 4,
 "nbformat_minor": 2
}
