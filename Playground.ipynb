{
 "cells": [
  {
   "cell_type": "code",
   "execution_count": null,
   "metadata": {
    "dotnet_interactive": {
     "language": "csharp"
    },
    "polyglot_notebook": {
     "kernelName": "csharp"
    }
   },
   "outputs": [],
   "source": [
    "#r \"nuget: Shioaji, 1.1.8\""
   ]
  },
  {
   "cell_type": "code",
   "execution_count": null,
   "metadata": {
    "dotnet_interactive": {
     "language": "csharp"
    },
    "polyglot_notebook": {
     "kernelName": "csharp"
    }
   },
   "outputs": [],
   "source": [
    "using System.IO;\n",
    "using Sinopac.Shioaji;\n",
    "using System.Text.Json;\n",
    "Shioaji _api = new Shioaji();\n",
    "\n",
    "string jsonString = File.ReadAllText(@\"D:\\DotnetReactShioaji\\DotnetReactShioaji\\Sinopac.json\");\n",
    "JsonElement root = JsonDocument.Parse(jsonString).RootElement;\n",
    "_api.Login(root.GetProperty(\"API_Key\").GetString(), root.GetProperty(\"Secret_Key\").GetString());\n",
    "\n",
    "// var res = _api.Snapshots(new List<IContract>() {_api.Contracts.Futures[\"TXF\"][\"TXFR1\"]}) //若誤用[0]就導它無法在array裡搜，硬用linq就報錯"
   ]
  },
  {
   "cell_type": "code",
   "execution_count": null,
   "metadata": {
    "dotnet_interactive": {
     "language": "csharp"
    },
    "polyglot_notebook": {
     "kernelName": "csharp"
    }
   },
   "outputs": [],
   "source": [
    "public dynamic anonListProfitLossSummary(string bgn, string end)\n",
    "{\n",
    "    var src = _api.ListProfitLossSummary(bgn, end, _api.FutureAccount).profitloss_summary[0];\n",
    "    var productAnonymous = new\n",
    "    {\n",
    "        code = (src.code.Substring(3, 5)) + (src.code[8] < 'L' ? \"Call\" : \"Put\"),\n",
    "        direction = src.direction,\n",
    "        entry_price = src.entry_price,\n",
    "        cover_price = src.cover_price,\n",
    "        netPnl = src.pnl - src.fee - src.tax\n",
    "    };\n",
    "    return productAnonymous;\n",
    "}\n",
    "\n",
    "List<object> _temp = new List<object>();\n",
    "_temp.Add(anonListProfitLossSummary(\"2024-01-10\", \"2024-01-10\"));\n",
    "_temp.Add(anonListProfitLossSummary(\"2024-01-18\", \"2024-01-18\"));\n",
    "// _temp.Add(anonListProfitLossSummary(\"2024-01-31\", \"2024-01-31\"));\n",
    "// _temp.Where(x => (Decimal)x.GetType().GetProperty(\"entry_price\").GetValue(x) >= (Decimal)49.0)\n",
    "\n",
    "_temp//.Max(x => (Decimal)x.GetType().GetProperty(\"entry_price\").GetValue(x))"
   ]
  },
  {
   "cell_type": "code",
   "execution_count": null,
   "metadata": {
    "dotnet_interactive": {
     "language": "csharp"
    },
    "polyglot_notebook": {
     "kernelName": "csharp"
    }
   },
   "outputs": [],
   "source": [
    "List<Sinopac.Shioaji.FuturePosition> _src = _api.ListPositions(_api.FutureAccount);  //允許多筆故idx 0會報錯\n",
    "// _src.Where(x => x.code[8]<'L').Select(x=>x.code)\n",
    "IEnumerable data;\n",
    "if(_src.Any(x => x.code[8] > 'L'))\n",
    "{\n",
    "    data = _src.Select(x=>x.code);\n",
    "}\n",
    "else\n",
    "{\n",
    "    Console.WriteLine(\"待建BCSC的部位\"); \n",
    "}\n",
    "data\n",
    "// var direction = _src.Where(x => x.code.Contains(\"TX5\")).Select(x => x.direction).FirstOrDefault();\n",
    "// var entry_price = _src.Where(x => x.code.Contains(\"TX5\")).Select(x => x.price).FirstOrDefault();\n",
    "// var last_price = _src.Where(x => x.code.Contains(\"TX5\")).Select(x => x.last_price).FirstOrDefault();\n",
    "// var Pnl = _src.Where(x => x.code.Contains(\"TX5\")).Select(x => x.pnl).FirstOrDefault();\n",
    "// Pnl"
   ]
  },
  {
   "cell_type": "code",
   "execution_count": null,
   "metadata": {
    "dotnet_interactive": {
     "language": "csharp"
    },
    "polyglot_notebook": {
     "kernelName": "csharp"
    }
   },
   "outputs": [],
   "source": [
    "List<Sinopac.Shioaji.FuturePosition> _src = _api.ListPositions(_api.FutureAccount);\n",
    "if(_src.Any(x => x.code.Contains(\"MXF\")))\n",
    "{\n",
    "    //準備監控 移停、出場或停損\n",
    "    // var _contract = _api.Contracts.Futures[\"MXF\"][\"MXF202402\"];    \n",
    "    // var _futOptOrder = new FutOptOrder()\n",
    "    // {\n",
    "    //     action = \"Buy\",\n",
    "    //     price = 18000,\n",
    "    //     quantity = 1, price_type = \"LMT\", order_type = \"ROD\"//, octype = OCType.DayTrade\n",
    "    // };\n",
    "    // var _trade = _api.PlaceOrder(_contract, _futOptOrder);\n",
    "\n",
    "    // foreach(var i in _trade.status)\n",
    "    // {\n",
    "    //     Console.WriteLine(i);\n",
    "    // }\n",
    "\n",
    "}\n",
    "else\n",
    "{\n",
    "    if (_src.Any(x => x.code[8] < 'L'))\n",
    "    {\n",
    "        var data1 =_src.Select(x=> new {x.price, x.last_price, x.pnl});\n",
    "        Console.WriteLine(string.Join(\", \", data1));\n",
    "    }\n",
    "    else if(_src.Any(x => x.code[8] > 'L'))\n",
    "    {\n",
    "        var data1 =_src.Select(x=> new {x.price, x.last_price, x.pnl});\n",
    "        Console.WriteLine(string.Join(\", \", data1));\n",
    "    }\n",
    "    else\n",
    "    {\n",
    "        Console.WriteLine(\"空手沒部位\"); \n",
    "    }\n",
    "}"
   ]
  },
  {
   "cell_type": "code",
   "execution_count": null,
   "metadata": {
    "dotnet_interactive": {
     "language": "csharp"
    },
    "polyglot_notebook": {
     "kernelName": "csharp"
    }
   },
   "outputs": [],
   "source": [
    "using System.Threading;\n",
    "\n",
    "public void MxfMock(double argEntryPrice, double argStp)\n",
    "{\n",
    "    List<double> _temp = new List<double>();\n",
    "    while (true)\n",
    "    {\n",
    "        double spotClose = (double)_api.Snapshots(new List<IContract>() { _api.Contracts.Futures[\"TXF\"][\"TXFR1\"] })[0].close;\n",
    "        _temp.Add(spotClose);\n",
    "        _temp.Reverse();\n",
    "        string result = string.Join(\", \", _temp.Take(10));\n",
    "        Console.WriteLine($\"現在{spotClose}點 \\t 過去 10 ticks {result}\\n高點{_temp.Max()} since start\");\n",
    "        if (spotClose >= argEntryPrice + argStp)\n",
    "        {\n",
    "            argEntryPrice += 2;\n",
    "            Console.WriteLine($\"已拉開故到{argEntryPrice}才會被掃出場\");\n",
    "            while (true)\n",
    "            {\n",
    "                spotClose = (double)_api.Snapshots(new List<IContract>() { _api.Contracts.Futures[\"TXF\"][\"TXFR1\"] })[0].close;\n",
    "                _temp.Add(spotClose);\n",
    "                if (spotClose <= (_temp.Max() - argStp))\n",
    "                {\n",
    "                    string desc = spotClose >= argEntryPrice ? \"停利\" : \"保本\";\n",
    "                    Console.WriteLine($\"★{desc}出在{spotClose}。\");\n",
    "                    break;\n",
    "                }\n",
    "                else if (spotClose <= argEntryPrice)\n",
    "                {\n",
    "                    Console.WriteLine($\"★保本出在{spotClose}。\");\n",
    "                    break;\n",
    "                }\n",
    "                else\n",
    "                {\n",
    "                    Console.WriteLine(spotClose);\n",
    "                    Thread.Sleep(5_000);\n",
    "                }\n",
    "            }\n",
    "            break;\n",
    "        }\n",
    "        else if (spotClose <= argEntryPrice - argStp)\n",
    "        {\n",
    "            Console.WriteLine($\"★停損，出在{spotClose}。\");\n",
    "            break;\n",
    "        }\n",
    "        else Thread.Sleep(5_000);\n",
    "    }\n",
    "    Console.WriteLine(\"★★小台積期：\" + _api.Snapshots(new List<IContract>() { _api.Contracts.Futures[\"QFF\"][\"QFFR1\"] })[0].close);\n",
    "}\n",
    "\n",
    "\n",
    "DateTime DTN = DateTime.Now;\n",
    "bool preMktTime = DTN < DTN.Date + new TimeSpan(5, 00, 0);\n",
    "bool onMktTime = (DTN > DTN.Date + new TimeSpan(8, 45, 0) && DTN < DTN.Date + new TimeSpan(13, 45, 0));\n",
    "DateTime end = preMktTime ? DTN.Date + new TimeSpan(5, 00, 0) : (onMktTime ? DTN.Date + new TimeSpan(13, 45, 0) : DateTime.Now.Date + new TimeSpan(29, 0, 0));\n",
    "while (DateTime.Now < end )\n",
    "{\n",
    "    // 1.有部位就依成本價\n",
    "    // List<Sinopac.Shioaji.FuturePosition> _src = _api.ListPositions(_api.FutureAccount);\n",
    "    // var Pnl = _src.Where(x => x.code.Contains(\"MXF\")).Select(x => x.pnl).FirstOrDefault();\n",
    "    // var entry_price = _src.Where(x => x.code.Contains(\"MXF\")).Select(x => x.price).FirstOrDefault();\n",
    "    \n",
    "\n",
    "    // if(Pnl >= entry_price)\n",
    "    // {\n",
    "    //     MxfMock( rtPositions.First().price, decimal 10.0)\n",
    "    // }\n",
    "    if(false)\n",
    "    {\n",
    "        //\n",
    "    }\n",
    "\n",
    "    // 2.無部位就主觀抓底點\n",
    "    else\n",
    "    {\n",
    "        MxfMock(17975.0, 10.0);\n",
    "        break;\n",
    "    }    \n",
    "}"
   ]
  },
  {
   "cell_type": "code",
   "execution_count": null,
   "metadata": {
    "dotnet_interactive": {
     "language": "csharp"
    },
    "polyglot_notebook": {
     "kernelName": "csharp"
    }
   },
   "outputs": [],
   "source": [
    "_api.Contracts.Futures[\"QFF\"][\"QFFR1\"]"
   ]
  },
  {
   "cell_type": "code",
   "execution_count": null,
   "metadata": {
    "dotnet_interactive": {
     "language": "csharp"
    },
    "polyglot_notebook": {
     "kernelName": "csharp"
    }
   },
   "outputs": [],
   "source": []
  },
  {
   "cell_type": "code",
   "execution_count": null,
   "metadata": {
    "dotnet_interactive": {
     "language": "csharp"
    },
    "polyglot_notebook": {
     "kernelName": "csharp"
    }
   },
   "outputs": [],
   "source": [
    "// _trade.order\n",
    "foreach(var i in _trade.order)\n",
    "{\n",
    "    Console.WriteLine(i[0].value);\n",
    "}"
   ]
  }
 ],
 "metadata": {
  "kernelspec": {
   "display_name": ".NET (C#)",
   "language": "C#",
   "name": ".net-csharp"
  },
  "language_info": {
   "name": "polyglot-notebook"
  },
  "polyglot_notebook": {
   "kernelInfo": {
    "defaultKernelName": "csharp",
    "items": [
     {
      "aliases": [],
      "languageName": "csharp",
      "name": "csharp"
     }
    ]
   }
  }
 },
 "nbformat": 4,
 "nbformat_minor": 2
}
