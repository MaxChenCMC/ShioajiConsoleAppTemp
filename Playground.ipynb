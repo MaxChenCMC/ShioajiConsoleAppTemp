{
 "cells": [
  {
   "cell_type": "code",
   "execution_count": 2,
   "metadata": {
    "dotnet_interactive": {
     "language": "csharp"
    },
    "polyglot_notebook": {
     "kernelName": "csharp"
    }
   },
   "outputs": [
    {
     "data": {
      "text/html": [
       "<div><div></div><div></div><div><strong>Installed Packages</strong><ul><li><span>Shioaji, 1.1.8</span></li></ul></div></div>"
      ]
     },
     "metadata": {},
     "output_type": "display_data"
    }
   ],
   "source": [
    "#r \"nuget: Shioaji, 1.1.8\""
   ]
  },
  {
   "cell_type": "code",
   "execution_count": 5,
   "metadata": {
    "dotnet_interactive": {
     "language": "csharp"
    },
    "polyglot_notebook": {
     "kernelName": "csharp"
    }
   },
   "outputs": [
    {
     "name": "stdout",
     "output_type": "stream",
     "text": [
      "Connecting as shioaji@sinopac on 210.59.255.161:80...\r\n"
     ]
    }
   ],
   "source": [
    "using System.IO;\n",
    "using Sinopac.Shioaji;\n",
    "using System.Text.Json;\n",
    "Shioaji _api = new Shioaji();\n",
    "\n",
    "string jsonString = File.ReadAllText(@\"D:\\DotnetReactShioaji\\DotnetReactShioaji\\Sinopac.json\");\n",
    "JsonElement root = JsonDocument.Parse(jsonString).RootElement;\n",
    "_api.Login(root.GetProperty(\"API_Key\").GetString(), root.GetProperty(\"Secret_Key\").GetString());\n",
    "\n",
    "// var res = _api.Snapshots(new List<IContract>() {_api.Contracts.Futures[\"TXF\"][\"TXFR1\"]}) //若誤用[0]就導它無法在array裡搜，硬用linq就報錯"
   ]
  },
  {
   "cell_type": "code",
   "execution_count": 43,
   "metadata": {
    "dotnet_interactive": {
     "language": "csharp"
    },
    "polyglot_notebook": {
     "kernelName": "csharp"
    }
   },
   "outputs": [
    {
     "data": {
      "text/html": [
       "<table><thead><tr><th><i>index</i></th><th>value</th></tr></thead><tbody><tr><td>0</td><td><details class=\"dni-treeview\"><summary><span class=\"dni-code-hint\"><code>{ code = 17550Put, direction = Buy, entry_price = 49.0, cover_price = 17481.0, netPnl = 951.0 }</code></span></summary><div><table><thead><tr></tr></thead><tbody><tr><td>code</td><td><div class=\"dni-plaintext\"><pre>17550Put</pre></div></td></tr><tr><td>direction</td><td><div class=\"dni-plaintext\"><pre>Buy</pre></div></td></tr><tr><td>entry_price</td><td><div class=\"dni-plaintext\"><pre>49.0</pre></div></td></tr><tr><td>cover_price</td><td><div class=\"dni-plaintext\"><pre>17481.0</pre></div></td></tr><tr><td>netPnl</td><td><div class=\"dni-plaintext\"><pre>951.0</pre></div></td></tr></tbody></table></div></details></td></tr><tr><td>1</td><td><details class=\"dni-treeview\"><summary><span class=\"dni-code-hint\"><code>{ code = 17250Call, direction = Buy, entry_price = 99.0, cover_price = 125.0, netPnl = 1259.0 }</code></span></summary><div><table><thead><tr></tr></thead><tbody><tr><td>code</td><td><div class=\"dni-plaintext\"><pre>17250Call</pre></div></td></tr><tr><td>direction</td><td><div class=\"dni-plaintext\"><pre>Buy</pre></div></td></tr><tr><td>entry_price</td><td><div class=\"dni-plaintext\"><pre>99.0</pre></div></td></tr><tr><td>cover_price</td><td><div class=\"dni-plaintext\"><pre>125.0</pre></div></td></tr><tr><td>netPnl</td><td><div class=\"dni-plaintext\"><pre>1259.0</pre></div></td></tr></tbody></table></div></details></td></tr></tbody></table><style>\r\n",
       ".dni-code-hint {\r\n",
       "    font-style: italic;\r\n",
       "    overflow: hidden;\r\n",
       "    white-space: nowrap;\r\n",
       "}\r\n",
       ".dni-treeview {\r\n",
       "    white-space: nowrap;\r\n",
       "}\r\n",
       ".dni-treeview td {\r\n",
       "    vertical-align: top;\r\n",
       "    text-align: start;\r\n",
       "}\r\n",
       "details.dni-treeview {\r\n",
       "    padding-left: 1em;\r\n",
       "}\r\n",
       "table td {\r\n",
       "    text-align: start;\r\n",
       "}\r\n",
       "table tr { \r\n",
       "    vertical-align: top; \r\n",
       "    margin: 0em 0px;\r\n",
       "}\r\n",
       "table tr td pre \r\n",
       "{ \r\n",
       "    vertical-align: top !important; \r\n",
       "    margin: 0em 0px !important;\r\n",
       "} \r\n",
       "table th {\r\n",
       "    text-align: start;\r\n",
       "}\r\n",
       "</style>"
      ]
     },
     "metadata": {},
     "output_type": "display_data"
    }
   ],
   "source": [
    "public dynamic anonListProfitLossSummary(string bgn, string end)\n",
    "{\n",
    "    var src = _api.ListProfitLossSummary(bgn, end, _api.FutureAccount).profitloss_summary[0];\n",
    "    var productAnonymous = new\n",
    "    {\n",
    "        code = (src.code.Substring(3, 5)) + (src.code[8] < 'L' ? \"Call\" : \"Put\"),\n",
    "        direction = src.direction,\n",
    "        entry_price = src.entry_price,\n",
    "        cover_price = src.cover_price,\n",
    "        netPnl = src.pnl - src.fee - src.tax\n",
    "    };\n",
    "    return productAnonymous;\n",
    "}\n",
    "\n",
    "List<object> _temp = new List<object>();\n",
    "_temp.Add(anonListProfitLossSummary(\"2024-01-10\", \"2024-01-10\"));\n",
    "_temp.Add(anonListProfitLossSummary(\"2024-01-18\", \"2024-01-18\"));\n",
    "// _temp.Add(anonListProfitLossSummary(\"2024-01-31\", \"2024-01-31\"));\n",
    "// _temp.Where(x => (Decimal)x.GetType().GetProperty(\"entry_price\").GetValue(x) >= (Decimal)49.0)\n",
    "\n",
    "_temp//.Max(x => (Decimal)x.GetType().GetProperty(\"entry_price\").GetValue(x))"
   ]
  },
  {
   "cell_type": "code",
   "execution_count": 61,
   "metadata": {},
   "outputs": [
    {
     "data": {
      "text/plain": [
       "(17550Put, 49.0)加 (951.0, Buy)"
      ]
     },
     "metadata": {},
     "output_type": "display_data"
    }
   ],
   "source": [
    "List<string> _ret = new List<string>{\"2024-01-10\",\"2024-01-18\"};\n",
    "List<dynamic> _temp = new List<dynamic>();\n",
    "foreach (string i in _ret)\n",
    "{\n",
    "   _temp.Add(anonListProfitLossSummary(i,i));\n",
    "}\n",
    "// _temp\n",
    "dynamic a = _temp.Where(x => x.GetType().GetProperty(\"code\").GetValue(x) != \"\" ).First();\n",
    "var aa = a.code;\n",
    "var bb = a.entry_price;\n",
    "var cc = a.netPnl;\n",
    "var dd = a.direction;\n",
    "string result = string.Join(\"加 \", (aa, bb), (cc,dd));\n",
    "result"
   ]
  },
  {
   "cell_type": "code",
   "execution_count": null,
   "metadata": {
    "dotnet_interactive": {
     "language": "csharp"
    },
    "polyglot_notebook": {
     "kernelName": "csharp"
    }
   },
   "outputs": [],
   "source": [
    "List<Sinopac.Shioaji.FuturePosition> _src = _api.ListPositions(_api.FutureAccount);  //允許多筆故idx 0會報錯\n",
    "var direction = _src.Where(x => x.code.Contains(\"TX5\")).Select(x => x.direction).FirstOrDefault();\n",
    "var entry_price = _src.Where(x => x.code.Contains(\"TX5\")).Select(x => x.price).FirstOrDefault();\n",
    "var last_price = _src.Where(x => x.code.Contains(\"TX5\")).Select(x => x.last_price).FirstOrDefault();\n",
    "var Pnl = _src.Where(x => x.code.Contains(\"TX5\")).Select(x => x.pnl).FirstOrDefault();\n",
    "Pnl"
   ]
  },
  {
   "cell_type": "code",
   "execution_count": null,
   "metadata": {
    "dotnet_interactive": {
     "language": "csharp"
    },
    "polyglot_notebook": {
     "kernelName": "csharp"
    }
   },
   "outputs": [],
   "source": [
    "using System.Threading;\n",
    "\n",
    "public void MxfMock(double argEntryPrice, double argStp)\n",
    "{\n",
    "    List<double> _temp = new List<double>();\n",
    "    while (true)\n",
    "    {\n",
    "        double spotClose = (double)_api.Snapshots(new List<IContract>() { _api.Contracts.Futures[\"TXF\"][\"TXFR1\"] })[0].close;\n",
    "        _temp.Add(spotClose);\n",
    "        _temp.Reverse();\n",
    "        string result = string.Join(\", \", _temp.Take(10));\n",
    "        Console.WriteLine($\"現在{spotClose}點 \\t 過去 10 ticks {result}\\n高點{_temp.Max()} since start\");\n",
    "        if (spotClose >= argEntryPrice + argStp)\n",
    "        {\n",
    "            argEntryPrice += 2;\n",
    "            Console.WriteLine($\"已拉開故到{argEntryPrice}才會被掃出場\");\n",
    "            while (true)\n",
    "            {\n",
    "                spotClose = (double)_api.Snapshots(new List<IContract>() { _api.Contracts.Futures[\"TXF\"][\"TXFR1\"] })[0].close;\n",
    "                _temp.Add(spotClose);\n",
    "                if (spotClose <= (_temp.Max() - argStp))\n",
    "                {\n",
    "                    string desc = spotClose >= argEntryPrice ? \"停利\" : \"保本\";\n",
    "                    Console.WriteLine($\"★{desc}出在{spotClose}。\");\n",
    "                    break;\n",
    "                }\n",
    "                else if (spotClose <= argEntryPrice)\n",
    "                {\n",
    "                    Console.WriteLine($\"★保本出在{spotClose}。\");\n",
    "                    break;\n",
    "                }\n",
    "                else\n",
    "                {\n",
    "                    Console.WriteLine(spotClose);\n",
    "                    Thread.Sleep(5_000);\n",
    "                }\n",
    "            }\n",
    "            break;\n",
    "        }\n",
    "        else if (spotClose <= argEntryPrice - argStp)\n",
    "        {\n",
    "            Console.WriteLine($\"★停損，出在{spotClose}。\");\n",
    "            break;\n",
    "        }\n",
    "        else Thread.Sleep(5_000);\n",
    "    }\n",
    "    Console.WriteLine(\"★★小台積期：\" + _api.Snapshots(new List<IContract>() { _api.Contracts.Futures[\"QFF\"][\"QFFR1\"] })[0].close);\n",
    "}\n",
    "\n",
    "\n",
    "DateTime DTN = DateTime.Now;\n",
    "bool preMktTime = DTN < DTN.Date + new TimeSpan(5, 00, 0);\n",
    "bool onMktTime = (DTN > DTN.Date + new TimeSpan(8, 45, 0) && DTN < DTN.Date + new TimeSpan(13, 45, 0));\n",
    "DateTime end = preMktTime ? DTN.Date + new TimeSpan(5, 00, 0) : (onMktTime ? DTN.Date + new TimeSpan(13, 45, 0) : DateTime.Now.Date + new TimeSpan(29, 0, 0));\n",
    "while (DateTime.Now < end )\n",
    "{\n",
    "    // 1.有部位就依成本價\n",
    "    // List<Sinopac.Shioaji.FuturePosition> _src = _api.ListPositions(_api.FutureAccount);\n",
    "    // var Pnl = _src.Where(x => x.code.Contains(\"MXF\")).Select(x => x.pnl).FirstOrDefault();\n",
    "    // var entry_price = _src.Where(x => x.code.Contains(\"MXF\")).Select(x => x.price).FirstOrDefault();\n",
    "    \n",
    "\n",
    "    // if(Pnl >= entry_price)\n",
    "    // {\n",
    "    //     MxfMock( rtPositions.First().price, decimal 10.0)\n",
    "    // }\n",
    "    if(false)\n",
    "    {\n",
    "        //\n",
    "    }\n",
    "\n",
    "\n",
    "    // 2.無部位就主觀抓底點\n",
    "    else\n",
    "    {\n",
    "        MxfMock(17975.0, 10.0);\n",
    "        break;\n",
    "    }    \n",
    "}"
   ]
  },
  {
   "cell_type": "code",
   "execution_count": null,
   "metadata": {
    "dotnet_interactive": {
     "language": "csharp"
    },
    "polyglot_notebook": {
     "kernelName": "csharp"
    }
   },
   "outputs": [],
   "source": [
    "// var _contract = _api.Contracts.Futures[\"MXF\"][\"MXF202402\"];    \n",
    "// var _futOptOrder = new FutOptOrder()\n",
    "// {\n",
    "//     action = \"Buy\",\n",
    "//     price = 18000,\n",
    "//     quantity = 1, price_type = \"LMT\", order_type = \"ROD\"//, octype = OCType.DayTrade\n",
    "// };\n",
    "// var _trade = _api.PlaceOrder(_contract, _futOptOrder);\n",
    "// _trade.GetType()\n",
    "foreach(var i in _trade.status)\n",
    "{\n",
    "    Console.WriteLine(i);\n",
    "}"
   ]
  },
  {
   "cell_type": "code",
   "execution_count": null,
   "metadata": {
    "dotnet_interactive": {
     "language": "csharp"
    },
    "polyglot_notebook": {
     "kernelName": "csharp"
    }
   },
   "outputs": [],
   "source": [
    "// _trade.order\n",
    "foreach(var i in _trade.order)\n",
    "{\n",
    "    Console.WriteLine(i[0].value);\n",
    "}"
   ]
  }
 ],
 "metadata": {
  "kernelspec": {
   "display_name": ".NET (C#)",
   "language": "C#",
   "name": ".net-csharp"
  },
  "language_info": {
   "name": "polyglot-notebook"
  },
  "polyglot_notebook": {
   "kernelInfo": {
    "defaultKernelName": "csharp",
    "items": [
     {
      "aliases": [],
      "languageName": "csharp",
      "name": "csharp"
     }
    ]
   }
  }
 },
 "nbformat": 4,
 "nbformat_minor": 2
}
