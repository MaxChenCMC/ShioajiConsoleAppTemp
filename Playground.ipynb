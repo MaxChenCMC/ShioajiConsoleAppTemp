{
 "cells": [
  {
   "cell_type": "code",
   "execution_count": 2,
   "metadata": {
    "dotnet_interactive": {
     "language": "csharp"
    },
    "polyglot_notebook": {
     "kernelName": "csharp"
    }
   },
   "outputs": [
    {
     "data": {
      "text/html": [
       "<div><div></div><div></div><div><strong>Installed Packages</strong><ul><li><span>Shioaji, 1.1.8</span></li></ul></div></div>"
      ]
     },
     "metadata": {},
     "output_type": "display_data"
    }
   ],
   "source": [
    "#r \"nuget: Shioaji, 1.1.8\""
   ]
  },
  {
   "cell_type": "code",
   "execution_count": 5,
   "metadata": {
    "dotnet_interactive": {
     "language": "csharp"
    },
    "polyglot_notebook": {
     "kernelName": "csharp"
    }
   },
   "outputs": [
    {
     "name": "stdout",
     "output_type": "stream",
     "text": [
      "Connecting as shioaji@sinopac on 203.66.91.161:80...\n",
      "caIsActivated: True\n"
     ]
    }
   ],
   "source": [
    "using System.IO;\n",
    "using Sinopac.Shioaji;\n",
    "using System.Text.Json;\n",
    "Shioaji _api = new Shioaji();\n",
    "\n",
    "string jsonString = File.ReadAllText(@\"D:\\Sinopac.json\");\n",
    "JsonElement root = JsonDocument.Parse(jsonString).RootElement;\n",
    "_api.Login(root.GetProperty(\"API_Key\").GetString(), root.GetProperty(\"Secret_Key\").GetString());\n",
    "_api.ca_activate(@\"D:\\Sinopac.pfx\", root.GetProperty(\"ca_passwd\").GetString(), root.GetProperty(\"person_id\").GetString());"
   ]
  },
  {
   "cell_type": "code",
   "execution_count": null,
   "metadata": {
    "dotnet_interactive": {
     "language": "csharp"
    },
    "polyglot_notebook": {
     "kernelName": "csharp"
    }
   },
   "outputs": [],
   "source": [
    "var _contract = _api.Contracts.Futures[\"MXF\"][\"MXF202402\"];\n",
    "var _futOptOrder = new FutOptOrder()\n",
    "{\n",
    "    action = \"Buy\",\n",
    "    price = 17000,\n",
    "    quantity = 1,\n",
    "    price_type = \"LMT\",\n",
    "    order_type = \"ROD\",\n",
    "    // octype = isIntraday ? \"DayTrade\" : \"\",\n",
    "};\n",
    "var _trade = _api.PlaceOrder(_contract, _futOptOrder);\n",
    "var ret = new\n",
    "{\n",
    "    status = _trade.status.status,\n",
    "    price = _trade.order.price,\n",
    "    deal_quantity = _trade.status.deal_quantity,\n",
    "    cancel_quantity = _trade.status.cancel_quantity,\n",
    "    action = _trade.order.action,\n",
    "};\n",
    "ret"
   ]
  },
  {
   "cell_type": "code",
   "execution_count": null,
   "metadata": {
    "dotnet_interactive": {
     "language": "csharp"
    },
    "polyglot_notebook": {
     "kernelName": "csharp"
    }
   },
   "outputs": [],
   "source": [
    "var GetChangePercentRankCodes = _api.Scanners(scannerType: ScannerType.ChangePercentRank, date: \"2024-02-05\", count: 20)\n",
    "    .Where(x => x.close > 20 && x.total_amount > 500_000_000)\n",
    "    .Select(x => new {code = x.code, name = x.name, close = x.close, total_amount =  Math.Round((decimal)x.total_amount / 100_000_000, 2)})\n",
    "    .Select(x => (string)x.code)\n",
    "    .ToList();\n",
    "Console.WriteLine(string.Join(\",\", GetChangePercentRankCodes));\n",
    "\n",
    "_api.Scanners(scannerType: ScannerType.ChangePercentRank, date: \"2024-02-05\", count: 20)\n",
    ".Where(x => (string)x.GetType().GetProperty(\"code\").GetValue(x) == \"6805\")"
   ]
  },
  {
   "cell_type": "code",
   "execution_count": null,
   "metadata": {
    "dotnet_interactive": {
     "language": "csharp"
    },
    "polyglot_notebook": {
     "kernelName": "csharp"
    }
   },
   "outputs": [],
   "source": [
    "using System.Net.Http;\n",
    "using System;\n",
    "using System.Collections.Generic;\n",
    "// using System.Text.Json;\n",
    "// using Newtonsoft.Json;\n",
    "\n",
    "try\n",
    "{\n",
    "    //\n",
    "}\n",
    "catch (Exception ex)\n",
    "{\n",
    "    Console.WriteLine($\"Failed {ex.Message}\");\n",
    "}\n",
    "\n",
    "var client = new HttpClient();\n",
    "var response = client.GetAsync(\"https://openapi.twse.com.tw/v1/exchangeReport/STOCK_DAY_AVG_ALL\").Result;\n",
    "var json = response.Content.ReadAsStringAsync().Result;\n",
    "var src = JsonSerializer.Deserialize<List<dynamic>>(json);\n",
    "src[0]"
   ]
  }
 ],
 "metadata": {
  "kernelspec": {
   "display_name": ".NET (C#)",
   "language": "C#",
   "name": ".net-csharp"
  },
  "language_info": {
   "name": "polyglot-notebook"
  },
  "polyglot_notebook": {
   "kernelInfo": {
    "defaultKernelName": "csharp",
    "items": [
     {
      "aliases": [],
      "languageName": "csharp",
      "name": "csharp"
     }
    ]
   }
  }
 },
 "nbformat": 4,
 "nbformat_minor": 2
}
